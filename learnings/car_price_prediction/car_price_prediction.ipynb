{
 "cells": [
  {
   "cell_type": "code",
   "execution_count": 43,
   "id": "a3a11ba3-79a3-47d9-b491-f2c750914c4c",
   "metadata": {},
   "outputs": [],
   "source": [
    "import pandas as pd \n",
    "import numpy as np \n",
    "import plotly.graph_objects as go"
   ]
  },
  {
   "cell_type": "code",
   "execution_count": 44,
   "id": "fb90d460-54de-4008-97fb-81168e144998",
   "metadata": {},
   "outputs": [
    {
     "data": {
      "text/html": [
       "<div>\n",
       "<style scoped>\n",
       "    .dataframe tbody tr th:only-of-type {\n",
       "        vertical-align: middle;\n",
       "    }\n",
       "\n",
       "    .dataframe tbody tr th {\n",
       "        vertical-align: top;\n",
       "    }\n",
       "\n",
       "    .dataframe thead th {\n",
       "        text-align: right;\n",
       "    }\n",
       "</style>\n",
       "<table border=\"1\" class=\"dataframe\">\n",
       "  <thead>\n",
       "    <tr style=\"text-align: right;\">\n",
       "      <th></th>\n",
       "      <th>ID</th>\n",
       "      <th>Price</th>\n",
       "      <th>Levy</th>\n",
       "      <th>Manufacturer</th>\n",
       "      <th>Model</th>\n",
       "      <th>Prod. year</th>\n",
       "      <th>Category</th>\n",
       "      <th>Leather interior</th>\n",
       "      <th>Fuel type</th>\n",
       "      <th>Engine volume</th>\n",
       "      <th>Mileage</th>\n",
       "      <th>Cylinders</th>\n",
       "      <th>Gear box type</th>\n",
       "      <th>Drive wheels</th>\n",
       "      <th>Doors</th>\n",
       "      <th>Wheel</th>\n",
       "      <th>Color</th>\n",
       "      <th>Airbags</th>\n",
       "    </tr>\n",
       "  </thead>\n",
       "  <tbody>\n",
       "    <tr>\n",
       "      <th>0</th>\n",
       "      <td>45654403</td>\n",
       "      <td>13328</td>\n",
       "      <td>1399</td>\n",
       "      <td>LEXUS</td>\n",
       "      <td>RX 450</td>\n",
       "      <td>2010</td>\n",
       "      <td>Jeep</td>\n",
       "      <td>Yes</td>\n",
       "      <td>Hybrid</td>\n",
       "      <td>3.5</td>\n",
       "      <td>186005 km</td>\n",
       "      <td>6.0</td>\n",
       "      <td>Automatic</td>\n",
       "      <td>4x4</td>\n",
       "      <td>04-May</td>\n",
       "      <td>Left wheel</td>\n",
       "      <td>Silver</td>\n",
       "      <td>12</td>\n",
       "    </tr>\n",
       "    <tr>\n",
       "      <th>1</th>\n",
       "      <td>44731507</td>\n",
       "      <td>16621</td>\n",
       "      <td>1018</td>\n",
       "      <td>CHEVROLET</td>\n",
       "      <td>Equinox</td>\n",
       "      <td>2011</td>\n",
       "      <td>Jeep</td>\n",
       "      <td>No</td>\n",
       "      <td>Petrol</td>\n",
       "      <td>3</td>\n",
       "      <td>192000 km</td>\n",
       "      <td>6.0</td>\n",
       "      <td>Tiptronic</td>\n",
       "      <td>4x4</td>\n",
       "      <td>04-May</td>\n",
       "      <td>Left wheel</td>\n",
       "      <td>Black</td>\n",
       "      <td>8</td>\n",
       "    </tr>\n",
       "    <tr>\n",
       "      <th>2</th>\n",
       "      <td>45774419</td>\n",
       "      <td>8467</td>\n",
       "      <td>-</td>\n",
       "      <td>HONDA</td>\n",
       "      <td>FIT</td>\n",
       "      <td>2006</td>\n",
       "      <td>Hatchback</td>\n",
       "      <td>No</td>\n",
       "      <td>Petrol</td>\n",
       "      <td>1.3</td>\n",
       "      <td>200000 km</td>\n",
       "      <td>4.0</td>\n",
       "      <td>Variator</td>\n",
       "      <td>Front</td>\n",
       "      <td>04-May</td>\n",
       "      <td>Right-hand drive</td>\n",
       "      <td>Black</td>\n",
       "      <td>2</td>\n",
       "    </tr>\n",
       "    <tr>\n",
       "      <th>3</th>\n",
       "      <td>45769185</td>\n",
       "      <td>3607</td>\n",
       "      <td>862</td>\n",
       "      <td>FORD</td>\n",
       "      <td>Escape</td>\n",
       "      <td>2011</td>\n",
       "      <td>Jeep</td>\n",
       "      <td>Yes</td>\n",
       "      <td>Hybrid</td>\n",
       "      <td>2.5</td>\n",
       "      <td>168966 km</td>\n",
       "      <td>4.0</td>\n",
       "      <td>Automatic</td>\n",
       "      <td>4x4</td>\n",
       "      <td>04-May</td>\n",
       "      <td>Left wheel</td>\n",
       "      <td>White</td>\n",
       "      <td>0</td>\n",
       "    </tr>\n",
       "    <tr>\n",
       "      <th>4</th>\n",
       "      <td>45809263</td>\n",
       "      <td>11726</td>\n",
       "      <td>446</td>\n",
       "      <td>HONDA</td>\n",
       "      <td>FIT</td>\n",
       "      <td>2014</td>\n",
       "      <td>Hatchback</td>\n",
       "      <td>Yes</td>\n",
       "      <td>Petrol</td>\n",
       "      <td>1.3</td>\n",
       "      <td>91901 km</td>\n",
       "      <td>4.0</td>\n",
       "      <td>Automatic</td>\n",
       "      <td>Front</td>\n",
       "      <td>04-May</td>\n",
       "      <td>Left wheel</td>\n",
       "      <td>Silver</td>\n",
       "      <td>4</td>\n",
       "    </tr>\n",
       "  </tbody>\n",
       "</table>\n",
       "</div>"
      ],
      "text/plain": [
       "         ID  Price  Levy Manufacturer    Model  Prod. year   Category  \\\n",
       "0  45654403  13328  1399        LEXUS   RX 450        2010       Jeep   \n",
       "1  44731507  16621  1018    CHEVROLET  Equinox        2011       Jeep   \n",
       "2  45774419   8467     -        HONDA      FIT        2006  Hatchback   \n",
       "3  45769185   3607   862         FORD   Escape        2011       Jeep   \n",
       "4  45809263  11726   446        HONDA      FIT        2014  Hatchback   \n",
       "\n",
       "  Leather interior Fuel type Engine volume    Mileage  Cylinders  \\\n",
       "0              Yes    Hybrid           3.5  186005 km        6.0   \n",
       "1               No    Petrol             3  192000 km        6.0   \n",
       "2               No    Petrol           1.3  200000 km        4.0   \n",
       "3              Yes    Hybrid           2.5  168966 km        4.0   \n",
       "4              Yes    Petrol           1.3   91901 km        4.0   \n",
       "\n",
       "  Gear box type Drive wheels   Doors             Wheel   Color  Airbags  \n",
       "0     Automatic          4x4  04-May        Left wheel  Silver       12  \n",
       "1     Tiptronic          4x4  04-May        Left wheel   Black        8  \n",
       "2      Variator        Front  04-May  Right-hand drive   Black        2  \n",
       "3     Automatic          4x4  04-May        Left wheel   White        0  \n",
       "4     Automatic        Front  04-May        Left wheel  Silver        4  "
      ]
     },
     "execution_count": 44,
     "metadata": {},
     "output_type": "execute_result"
    }
   ],
   "source": [
    "df = pd.read_csv(\"car_price_prediction.csv\")\n",
    "df.head()"
   ]
  },
  {
   "cell_type": "code",
   "execution_count": 45,
   "id": "7cf553f2-d4dc-4404-8b97-3ebf7172ca93",
   "metadata": {},
   "outputs": [
    {
     "data": {
      "text/plain": [
       "ID                  0\n",
       "Price               0\n",
       "Levy                0\n",
       "Manufacturer        0\n",
       "Model               0\n",
       "Prod. year          0\n",
       "Category            0\n",
       "Leather interior    0\n",
       "Fuel type           0\n",
       "Engine volume       0\n",
       "Mileage             0\n",
       "Cylinders           0\n",
       "Gear box type       0\n",
       "Drive wheels        0\n",
       "Doors               0\n",
       "Wheel               0\n",
       "Color               0\n",
       "Airbags             0\n",
       "dtype: int64"
      ]
     },
     "execution_count": 45,
     "metadata": {},
     "output_type": "execute_result"
    }
   ],
   "source": [
    "df.isna().sum()"
   ]
  },
  {
   "cell_type": "code",
   "execution_count": 46,
   "id": "b57860dd-6548-4f88-a47b-22a7cd67034f",
   "metadata": {},
   "outputs": [
    {
     "data": {
      "text/plain": [
       "ID                    int64\n",
       "Price                 int64\n",
       "Levy                 object\n",
       "Manufacturer         object\n",
       "Model                object\n",
       "Prod. year            int64\n",
       "Category             object\n",
       "Leather interior     object\n",
       "Fuel type            object\n",
       "Engine volume        object\n",
       "Mileage              object\n",
       "Cylinders           float64\n",
       "Gear box type        object\n",
       "Drive wheels         object\n",
       "Doors                object\n",
       "Wheel                object\n",
       "Color                object\n",
       "Airbags               int64\n",
       "dtype: object"
      ]
     },
     "execution_count": 46,
     "metadata": {},
     "output_type": "execute_result"
    }
   ],
   "source": [
    "df.dtypes"
   ]
  },
  {
   "cell_type": "code",
   "execution_count": 47,
   "id": "64ce7280-82e3-43ea-8335-e1c33ed52007",
   "metadata": {},
   "outputs": [
    {
     "data": {
      "text/plain": [
       "Levy\n",
       "-       5819\n",
       "765      486\n",
       "891      461\n",
       "639      410\n",
       "640      405\n",
       "        ... \n",
       "676        1\n",
       "1678       1\n",
       "1369       1\n",
       "328        1\n",
       "955        1\n",
       "Name: count, Length: 559, dtype: int64"
      ]
     },
     "execution_count": 47,
     "metadata": {},
     "output_type": "execute_result"
    }
   ],
   "source": [
    "df[\"Levy\"].value_counts()"
   ]
  },
  {
   "cell_type": "code",
   "execution_count": 48,
   "id": "00eb392c-b973-44df-9699-b3c9c3612620",
   "metadata": {},
   "outputs": [],
   "source": [
    "df[\"brand_price_mean\"] = df.groupby(\"Manufacturer\")[\"Price\"].transform(\"mean\")"
   ]
  },
  {
   "cell_type": "code",
   "execution_count": 49,
   "id": "b98e1f30-5461-4608-986e-8de5396c85f7",
   "metadata": {},
   "outputs": [
    {
     "data": {
      "text/html": [
       "<div>\n",
       "<style scoped>\n",
       "    .dataframe tbody tr th:only-of-type {\n",
       "        vertical-align: middle;\n",
       "    }\n",
       "\n",
       "    .dataframe tbody tr th {\n",
       "        vertical-align: top;\n",
       "    }\n",
       "\n",
       "    .dataframe thead th {\n",
       "        text-align: right;\n",
       "    }\n",
       "</style>\n",
       "<table border=\"1\" class=\"dataframe\">\n",
       "  <thead>\n",
       "    <tr style=\"text-align: right;\">\n",
       "      <th></th>\n",
       "      <th>ID</th>\n",
       "      <th>Price</th>\n",
       "      <th>Levy</th>\n",
       "      <th>Manufacturer</th>\n",
       "      <th>Model</th>\n",
       "      <th>Prod. year</th>\n",
       "      <th>Category</th>\n",
       "      <th>Leather interior</th>\n",
       "      <th>Fuel type</th>\n",
       "      <th>Engine volume</th>\n",
       "      <th>Mileage</th>\n",
       "      <th>Cylinders</th>\n",
       "      <th>Gear box type</th>\n",
       "      <th>Drive wheels</th>\n",
       "      <th>Doors</th>\n",
       "      <th>Wheel</th>\n",
       "      <th>Color</th>\n",
       "      <th>Airbags</th>\n",
       "      <th>brand_price_mean</th>\n",
       "    </tr>\n",
       "  </thead>\n",
       "  <tbody>\n",
       "    <tr>\n",
       "      <th>0</th>\n",
       "      <td>45654403</td>\n",
       "      <td>13328</td>\n",
       "      <td>1399</td>\n",
       "      <td>LEXUS</td>\n",
       "      <td>RX 450</td>\n",
       "      <td>2010</td>\n",
       "      <td>Jeep</td>\n",
       "      <td>Yes</td>\n",
       "      <td>Hybrid</td>\n",
       "      <td>3.5</td>\n",
       "      <td>186005 km</td>\n",
       "      <td>6.0</td>\n",
       "      <td>Automatic</td>\n",
       "      <td>4x4</td>\n",
       "      <td>04-May</td>\n",
       "      <td>Left wheel</td>\n",
       "      <td>Silver</td>\n",
       "      <td>12</td>\n",
       "      <td>19191.276986</td>\n",
       "    </tr>\n",
       "    <tr>\n",
       "      <th>1</th>\n",
       "      <td>44731507</td>\n",
       "      <td>16621</td>\n",
       "      <td>1018</td>\n",
       "      <td>CHEVROLET</td>\n",
       "      <td>Equinox</td>\n",
       "      <td>2011</td>\n",
       "      <td>Jeep</td>\n",
       "      <td>No</td>\n",
       "      <td>Petrol</td>\n",
       "      <td>3</td>\n",
       "      <td>192000 km</td>\n",
       "      <td>6.0</td>\n",
       "      <td>Tiptronic</td>\n",
       "      <td>4x4</td>\n",
       "      <td>04-May</td>\n",
       "      <td>Left wheel</td>\n",
       "      <td>Black</td>\n",
       "      <td>8</td>\n",
       "      <td>14926.368569</td>\n",
       "    </tr>\n",
       "    <tr>\n",
       "      <th>2</th>\n",
       "      <td>45774419</td>\n",
       "      <td>8467</td>\n",
       "      <td>-</td>\n",
       "      <td>HONDA</td>\n",
       "      <td>FIT</td>\n",
       "      <td>2006</td>\n",
       "      <td>Hatchback</td>\n",
       "      <td>No</td>\n",
       "      <td>Petrol</td>\n",
       "      <td>1.3</td>\n",
       "      <td>200000 km</td>\n",
       "      <td>4.0</td>\n",
       "      <td>Variator</td>\n",
       "      <td>Front</td>\n",
       "      <td>04-May</td>\n",
       "      <td>Right-hand drive</td>\n",
       "      <td>Black</td>\n",
       "      <td>2</td>\n",
       "      <td>14291.335722</td>\n",
       "    </tr>\n",
       "    <tr>\n",
       "      <th>3</th>\n",
       "      <td>45769185</td>\n",
       "      <td>3607</td>\n",
       "      <td>862</td>\n",
       "      <td>FORD</td>\n",
       "      <td>Escape</td>\n",
       "      <td>2011</td>\n",
       "      <td>Jeep</td>\n",
       "      <td>Yes</td>\n",
       "      <td>Hybrid</td>\n",
       "      <td>2.5</td>\n",
       "      <td>168966 km</td>\n",
       "      <td>4.0</td>\n",
       "      <td>Automatic</td>\n",
       "      <td>4x4</td>\n",
       "      <td>04-May</td>\n",
       "      <td>Left wheel</td>\n",
       "      <td>White</td>\n",
       "      <td>0</td>\n",
       "      <td>15573.981998</td>\n",
       "    </tr>\n",
       "    <tr>\n",
       "      <th>4</th>\n",
       "      <td>45809263</td>\n",
       "      <td>11726</td>\n",
       "      <td>446</td>\n",
       "      <td>HONDA</td>\n",
       "      <td>FIT</td>\n",
       "      <td>2014</td>\n",
       "      <td>Hatchback</td>\n",
       "      <td>Yes</td>\n",
       "      <td>Petrol</td>\n",
       "      <td>1.3</td>\n",
       "      <td>91901 km</td>\n",
       "      <td>4.0</td>\n",
       "      <td>Automatic</td>\n",
       "      <td>Front</td>\n",
       "      <td>04-May</td>\n",
       "      <td>Left wheel</td>\n",
       "      <td>Silver</td>\n",
       "      <td>4</td>\n",
       "      <td>14291.335722</td>\n",
       "    </tr>\n",
       "  </tbody>\n",
       "</table>\n",
       "</div>"
      ],
      "text/plain": [
       "         ID  Price  Levy Manufacturer    Model  Prod. year   Category  \\\n",
       "0  45654403  13328  1399        LEXUS   RX 450        2010       Jeep   \n",
       "1  44731507  16621  1018    CHEVROLET  Equinox        2011       Jeep   \n",
       "2  45774419   8467     -        HONDA      FIT        2006  Hatchback   \n",
       "3  45769185   3607   862         FORD   Escape        2011       Jeep   \n",
       "4  45809263  11726   446        HONDA      FIT        2014  Hatchback   \n",
       "\n",
       "  Leather interior Fuel type Engine volume    Mileage  Cylinders  \\\n",
       "0              Yes    Hybrid           3.5  186005 km        6.0   \n",
       "1               No    Petrol             3  192000 km        6.0   \n",
       "2               No    Petrol           1.3  200000 km        4.0   \n",
       "3              Yes    Hybrid           2.5  168966 km        4.0   \n",
       "4              Yes    Petrol           1.3   91901 km        4.0   \n",
       "\n",
       "  Gear box type Drive wheels   Doors             Wheel   Color  Airbags  \\\n",
       "0     Automatic          4x4  04-May        Left wheel  Silver       12   \n",
       "1     Tiptronic          4x4  04-May        Left wheel   Black        8   \n",
       "2      Variator        Front  04-May  Right-hand drive   Black        2   \n",
       "3     Automatic          4x4  04-May        Left wheel   White        0   \n",
       "4     Automatic        Front  04-May        Left wheel  Silver        4   \n",
       "\n",
       "   brand_price_mean  \n",
       "0      19191.276986  \n",
       "1      14926.368569  \n",
       "2      14291.335722  \n",
       "3      15573.981998  \n",
       "4      14291.335722  "
      ]
     },
     "execution_count": 49,
     "metadata": {},
     "output_type": "execute_result"
    }
   ],
   "source": [
    "df.head()"
   ]
  },
  {
   "cell_type": "code",
   "execution_count": 50,
   "id": "8589b65d-9012-41a7-8276-289657a32fb4",
   "metadata": {},
   "outputs": [
    {
     "data": {
      "text/plain": [
       "'186005 km'"
      ]
     },
     "execution_count": 50,
     "metadata": {},
     "output_type": "execute_result"
    }
   ],
   "source": [
    "df[\"Mileage\"][0]"
   ]
  },
  {
   "cell_type": "code",
   "execution_count": 51,
   "id": "1e1bccac-bef3-4e25-b303-9c7f71817e8a",
   "metadata": {},
   "outputs": [
    {
     "data": {
      "text/plain": [
       "Wheel\n",
       "Left wheel          17753\n",
       "Right-hand drive     1484\n",
       "Name: count, dtype: int64"
      ]
     },
     "execution_count": 51,
     "metadata": {},
     "output_type": "execute_result"
    }
   ],
   "source": [
    "df[\"Wheel\"].value_counts()"
   ]
  },
  {
   "cell_type": "code",
   "execution_count": 52,
   "id": "93dc38e9-f092-4990-be07-dd7b3cd043df",
   "metadata": {},
   "outputs": [],
   "source": [
    "cat_feature = df.select_dtypes(include=\"object\")"
   ]
  },
  {
   "cell_type": "code",
   "execution_count": 53,
   "id": "ba542088-9e6b-41d3-bfe2-ec53544a5f0b",
   "metadata": {},
   "outputs": [],
   "source": [
    "cat_feature = cat_feature[['Leather interior','Gear box type','Drive wheels','Doors','Wheel']]"
   ]
  },
  {
   "cell_type": "code",
   "execution_count": 54,
   "id": "884b4a0f-3dc9-4d1b-8176-afd847f840c3",
   "metadata": {},
   "outputs": [
    {
     "data": {
      "text/html": [
       "<div>\n",
       "<style scoped>\n",
       "    .dataframe tbody tr th:only-of-type {\n",
       "        vertical-align: middle;\n",
       "    }\n",
       "\n",
       "    .dataframe tbody tr th {\n",
       "        vertical-align: top;\n",
       "    }\n",
       "\n",
       "    .dataframe thead th {\n",
       "        text-align: right;\n",
       "    }\n",
       "</style>\n",
       "<table border=\"1\" class=\"dataframe\">\n",
       "  <thead>\n",
       "    <tr style=\"text-align: right;\">\n",
       "      <th></th>\n",
       "      <th>Leather interior</th>\n",
       "      <th>Gear box type</th>\n",
       "      <th>Drive wheels</th>\n",
       "      <th>Doors</th>\n",
       "      <th>Wheel</th>\n",
       "    </tr>\n",
       "  </thead>\n",
       "  <tbody>\n",
       "    <tr>\n",
       "      <th>0</th>\n",
       "      <td>Yes</td>\n",
       "      <td>Automatic</td>\n",
       "      <td>4x4</td>\n",
       "      <td>04-May</td>\n",
       "      <td>Left wheel</td>\n",
       "    </tr>\n",
       "    <tr>\n",
       "      <th>1</th>\n",
       "      <td>No</td>\n",
       "      <td>Tiptronic</td>\n",
       "      <td>4x4</td>\n",
       "      <td>04-May</td>\n",
       "      <td>Left wheel</td>\n",
       "    </tr>\n",
       "    <tr>\n",
       "      <th>2</th>\n",
       "      <td>No</td>\n",
       "      <td>Variator</td>\n",
       "      <td>Front</td>\n",
       "      <td>04-May</td>\n",
       "      <td>Right-hand drive</td>\n",
       "    </tr>\n",
       "    <tr>\n",
       "      <th>3</th>\n",
       "      <td>Yes</td>\n",
       "      <td>Automatic</td>\n",
       "      <td>4x4</td>\n",
       "      <td>04-May</td>\n",
       "      <td>Left wheel</td>\n",
       "    </tr>\n",
       "    <tr>\n",
       "      <th>4</th>\n",
       "      <td>Yes</td>\n",
       "      <td>Automatic</td>\n",
       "      <td>Front</td>\n",
       "      <td>04-May</td>\n",
       "      <td>Left wheel</td>\n",
       "    </tr>\n",
       "    <tr>\n",
       "      <th>...</th>\n",
       "      <td>...</td>\n",
       "      <td>...</td>\n",
       "      <td>...</td>\n",
       "      <td>...</td>\n",
       "      <td>...</td>\n",
       "    </tr>\n",
       "    <tr>\n",
       "      <th>19232</th>\n",
       "      <td>Yes</td>\n",
       "      <td>Manual</td>\n",
       "      <td>Rear</td>\n",
       "      <td>02-Mar</td>\n",
       "      <td>Left wheel</td>\n",
       "    </tr>\n",
       "    <tr>\n",
       "      <th>19233</th>\n",
       "      <td>Yes</td>\n",
       "      <td>Tiptronic</td>\n",
       "      <td>Front</td>\n",
       "      <td>04-May</td>\n",
       "      <td>Left wheel</td>\n",
       "    </tr>\n",
       "    <tr>\n",
       "      <th>19234</th>\n",
       "      <td>Yes</td>\n",
       "      <td>Automatic</td>\n",
       "      <td>Front</td>\n",
       "      <td>04-May</td>\n",
       "      <td>Left wheel</td>\n",
       "    </tr>\n",
       "    <tr>\n",
       "      <th>19235</th>\n",
       "      <td>Yes</td>\n",
       "      <td>Automatic</td>\n",
       "      <td>Front</td>\n",
       "      <td>04-May</td>\n",
       "      <td>Left wheel</td>\n",
       "    </tr>\n",
       "    <tr>\n",
       "      <th>19236</th>\n",
       "      <td>Yes</td>\n",
       "      <td>Automatic</td>\n",
       "      <td>Front</td>\n",
       "      <td>04-May</td>\n",
       "      <td>Left wheel</td>\n",
       "    </tr>\n",
       "  </tbody>\n",
       "</table>\n",
       "<p>19237 rows × 5 columns</p>\n",
       "</div>"
      ],
      "text/plain": [
       "      Leather interior Gear box type Drive wheels   Doors             Wheel\n",
       "0                  Yes     Automatic          4x4  04-May        Left wheel\n",
       "1                   No     Tiptronic          4x4  04-May        Left wheel\n",
       "2                   No      Variator        Front  04-May  Right-hand drive\n",
       "3                  Yes     Automatic          4x4  04-May        Left wheel\n",
       "4                  Yes     Automatic        Front  04-May        Left wheel\n",
       "...                ...           ...          ...     ...               ...\n",
       "19232              Yes        Manual         Rear  02-Mar        Left wheel\n",
       "19233              Yes     Tiptronic        Front  04-May        Left wheel\n",
       "19234              Yes     Automatic        Front  04-May        Left wheel\n",
       "19235              Yes     Automatic        Front  04-May        Left wheel\n",
       "19236              Yes     Automatic        Front  04-May        Left wheel\n",
       "\n",
       "[19237 rows x 5 columns]"
      ]
     },
     "execution_count": 54,
     "metadata": {},
     "output_type": "execute_result"
    }
   ],
   "source": [
    "cat_feature"
   ]
  },
  {
   "cell_type": "code",
   "execution_count": 55,
   "id": "3e9f6925-3c97-4d2b-972f-9804c66c253b",
   "metadata": {},
   "outputs": [
    {
     "data": {
      "text/plain": [
       "Leather interior    2\n",
       "Gear box type       4\n",
       "Drive wheels        3\n",
       "Doors               3\n",
       "Wheel               2\n",
       "dtype: int64"
      ]
     },
     "execution_count": 55,
     "metadata": {},
     "output_type": "execute_result"
    }
   ],
   "source": [
    "df[['Leather interior','Gear box type','Drive wheels','Doors','Wheel']].nunique()"
   ]
  },
  {
   "cell_type": "code",
   "execution_count": 56,
   "id": "e4bc704c-b3e4-42c1-a0b1-5200ef121fe3",
   "metadata": {},
   "outputs": [],
   "source": [
    "from sklearn.preprocessing import OneHotEncoder"
   ]
  },
  {
   "cell_type": "code",
   "execution_count": 57,
   "id": "49c55640-4785-4313-8f2a-65b9cb8d7e15",
   "metadata": {},
   "outputs": [],
   "source": [
    "OHE = OneHotEncoder(handle_unknown = \"ignore\", sparse_output = False,drop=\"first\")"
   ]
  },
  {
   "cell_type": "code",
   "execution_count": 58,
   "id": "0061cd6b-4c2b-441b-8e02-0069bb701a9c",
   "metadata": {},
   "outputs": [],
   "source": [
    "encoded = OHE.fit_transform(cat_feature)"
   ]
  },
  {
   "cell_type": "code",
   "execution_count": 59,
   "id": "0f3f1734-65d7-4caf-a5a8-202a02c5ba1b",
   "metadata": {},
   "outputs": [],
   "source": [
    "cat_cols = ['Leather interior','Gear box type','Drive wheels','Doors','Wheel']"
   ]
  },
  {
   "cell_type": "code",
   "execution_count": 60,
   "id": "2febe326-ceaf-440b-bba5-3d6be394a3d3",
   "metadata": {},
   "outputs": [],
   "source": [
    "encoded_df = pd.DataFrame(encoded, columns=OHE.get_feature_names_out(cat_cols))"
   ]
  },
  {
   "cell_type": "code",
   "execution_count": 61,
   "id": "a8319831-2f36-464e-bad5-a2e41788e555",
   "metadata": {},
   "outputs": [
    {
     "data": {
      "text/html": [
       "<div>\n",
       "<style scoped>\n",
       "    .dataframe tbody tr th:only-of-type {\n",
       "        vertical-align: middle;\n",
       "    }\n",
       "\n",
       "    .dataframe tbody tr th {\n",
       "        vertical-align: top;\n",
       "    }\n",
       "\n",
       "    .dataframe thead th {\n",
       "        text-align: right;\n",
       "    }\n",
       "</style>\n",
       "<table border=\"1\" class=\"dataframe\">\n",
       "  <thead>\n",
       "    <tr style=\"text-align: right;\">\n",
       "      <th></th>\n",
       "      <th>Leather interior_Yes</th>\n",
       "      <th>Gear box type_Manual</th>\n",
       "      <th>Gear box type_Tiptronic</th>\n",
       "      <th>Gear box type_Variator</th>\n",
       "      <th>Drive wheels_Front</th>\n",
       "      <th>Drive wheels_Rear</th>\n",
       "      <th>Doors_04-May</th>\n",
       "      <th>Doors_&gt;5</th>\n",
       "      <th>Wheel_Right-hand drive</th>\n",
       "    </tr>\n",
       "  </thead>\n",
       "  <tbody>\n",
       "    <tr>\n",
       "      <th>0</th>\n",
       "      <td>1.0</td>\n",
       "      <td>0.0</td>\n",
       "      <td>0.0</td>\n",
       "      <td>0.0</td>\n",
       "      <td>0.0</td>\n",
       "      <td>0.0</td>\n",
       "      <td>1.0</td>\n",
       "      <td>0.0</td>\n",
       "      <td>0.0</td>\n",
       "    </tr>\n",
       "    <tr>\n",
       "      <th>1</th>\n",
       "      <td>0.0</td>\n",
       "      <td>0.0</td>\n",
       "      <td>1.0</td>\n",
       "      <td>0.0</td>\n",
       "      <td>0.0</td>\n",
       "      <td>0.0</td>\n",
       "      <td>1.0</td>\n",
       "      <td>0.0</td>\n",
       "      <td>0.0</td>\n",
       "    </tr>\n",
       "    <tr>\n",
       "      <th>2</th>\n",
       "      <td>0.0</td>\n",
       "      <td>0.0</td>\n",
       "      <td>0.0</td>\n",
       "      <td>1.0</td>\n",
       "      <td>1.0</td>\n",
       "      <td>0.0</td>\n",
       "      <td>1.0</td>\n",
       "      <td>0.0</td>\n",
       "      <td>1.0</td>\n",
       "    </tr>\n",
       "    <tr>\n",
       "      <th>3</th>\n",
       "      <td>1.0</td>\n",
       "      <td>0.0</td>\n",
       "      <td>0.0</td>\n",
       "      <td>0.0</td>\n",
       "      <td>0.0</td>\n",
       "      <td>0.0</td>\n",
       "      <td>1.0</td>\n",
       "      <td>0.0</td>\n",
       "      <td>0.0</td>\n",
       "    </tr>\n",
       "    <tr>\n",
       "      <th>4</th>\n",
       "      <td>1.0</td>\n",
       "      <td>0.0</td>\n",
       "      <td>0.0</td>\n",
       "      <td>0.0</td>\n",
       "      <td>1.0</td>\n",
       "      <td>0.0</td>\n",
       "      <td>1.0</td>\n",
       "      <td>0.0</td>\n",
       "      <td>0.0</td>\n",
       "    </tr>\n",
       "  </tbody>\n",
       "</table>\n",
       "</div>"
      ],
      "text/plain": [
       "   Leather interior_Yes  Gear box type_Manual  Gear box type_Tiptronic  \\\n",
       "0                   1.0                   0.0                      0.0   \n",
       "1                   0.0                   0.0                      1.0   \n",
       "2                   0.0                   0.0                      0.0   \n",
       "3                   1.0                   0.0                      0.0   \n",
       "4                   1.0                   0.0                      0.0   \n",
       "\n",
       "   Gear box type_Variator  Drive wheels_Front  Drive wheels_Rear  \\\n",
       "0                     0.0                 0.0                0.0   \n",
       "1                     0.0                 0.0                0.0   \n",
       "2                     1.0                 1.0                0.0   \n",
       "3                     0.0                 0.0                0.0   \n",
       "4                     0.0                 1.0                0.0   \n",
       "\n",
       "   Doors_04-May  Doors_>5  Wheel_Right-hand drive  \n",
       "0           1.0       0.0                     0.0  \n",
       "1           1.0       0.0                     0.0  \n",
       "2           1.0       0.0                     1.0  \n",
       "3           1.0       0.0                     0.0  \n",
       "4           1.0       0.0                     0.0  "
      ]
     },
     "execution_count": 61,
     "metadata": {},
     "output_type": "execute_result"
    }
   ],
   "source": [
    "encoded_df.head()"
   ]
  },
  {
   "cell_type": "code",
   "execution_count": 62,
   "id": "c37a1271-12f9-4400-b339-4f9b747b1a99",
   "metadata": {},
   "outputs": [],
   "source": [
    "numeric_features = df.select_dtypes(include = [\"int64\", \"float64\"])"
   ]
  },
  {
   "cell_type": "code",
   "execution_count": 63,
   "id": "8e648d76-aacf-4aca-a664-1cae4603c8f0",
   "metadata": {},
   "outputs": [
    {
     "data": {
      "text/html": [
       "<div>\n",
       "<style scoped>\n",
       "    .dataframe tbody tr th:only-of-type {\n",
       "        vertical-align: middle;\n",
       "    }\n",
       "\n",
       "    .dataframe tbody tr th {\n",
       "        vertical-align: top;\n",
       "    }\n",
       "\n",
       "    .dataframe thead th {\n",
       "        text-align: right;\n",
       "    }\n",
       "</style>\n",
       "<table border=\"1\" class=\"dataframe\">\n",
       "  <thead>\n",
       "    <tr style=\"text-align: right;\">\n",
       "      <th></th>\n",
       "      <th>Price</th>\n",
       "      <th>Prod. year</th>\n",
       "      <th>Cylinders</th>\n",
       "      <th>Airbags</th>\n",
       "    </tr>\n",
       "  </thead>\n",
       "  <tbody>\n",
       "    <tr>\n",
       "      <th>0</th>\n",
       "      <td>13328</td>\n",
       "      <td>2010</td>\n",
       "      <td>6.0</td>\n",
       "      <td>12</td>\n",
       "    </tr>\n",
       "    <tr>\n",
       "      <th>1</th>\n",
       "      <td>16621</td>\n",
       "      <td>2011</td>\n",
       "      <td>6.0</td>\n",
       "      <td>8</td>\n",
       "    </tr>\n",
       "    <tr>\n",
       "      <th>2</th>\n",
       "      <td>8467</td>\n",
       "      <td>2006</td>\n",
       "      <td>4.0</td>\n",
       "      <td>2</td>\n",
       "    </tr>\n",
       "    <tr>\n",
       "      <th>3</th>\n",
       "      <td>3607</td>\n",
       "      <td>2011</td>\n",
       "      <td>4.0</td>\n",
       "      <td>0</td>\n",
       "    </tr>\n",
       "    <tr>\n",
       "      <th>4</th>\n",
       "      <td>11726</td>\n",
       "      <td>2014</td>\n",
       "      <td>4.0</td>\n",
       "      <td>4</td>\n",
       "    </tr>\n",
       "  </tbody>\n",
       "</table>\n",
       "</div>"
      ],
      "text/plain": [
       "   Price  Prod. year  Cylinders  Airbags\n",
       "0  13328        2010        6.0       12\n",
       "1  16621        2011        6.0        8\n",
       "2   8467        2006        4.0        2\n",
       "3   3607        2011        4.0        0\n",
       "4  11726        2014        4.0        4"
      ]
     },
     "execution_count": 63,
     "metadata": {},
     "output_type": "execute_result"
    }
   ],
   "source": [
    "numeric_features = numeric_features.drop(columns=[\"ID\",\"brand_price_mean\"])\n",
    "numeric_features.head()"
   ]
  },
  {
   "cell_type": "code",
   "execution_count": 64,
   "id": "81363972-f907-4f11-aeb9-6f1b5315e0e2",
   "metadata": {},
   "outputs": [
    {
     "data": {
      "text/html": [
       "<div>\n",
       "<style scoped>\n",
       "    .dataframe tbody tr th:only-of-type {\n",
       "        vertical-align: middle;\n",
       "    }\n",
       "\n",
       "    .dataframe tbody tr th {\n",
       "        vertical-align: top;\n",
       "    }\n",
       "\n",
       "    .dataframe thead th {\n",
       "        text-align: right;\n",
       "    }\n",
       "</style>\n",
       "<table border=\"1\" class=\"dataframe\">\n",
       "  <thead>\n",
       "    <tr style=\"text-align: right;\">\n",
       "      <th></th>\n",
       "      <th>Price</th>\n",
       "      <th>Prod. year</th>\n",
       "      <th>Cylinders</th>\n",
       "      <th>Airbags</th>\n",
       "      <th>Leather interior_Yes</th>\n",
       "      <th>Gear box type_Manual</th>\n",
       "      <th>Gear box type_Tiptronic</th>\n",
       "      <th>Gear box type_Variator</th>\n",
       "      <th>Drive wheels_Front</th>\n",
       "      <th>Drive wheels_Rear</th>\n",
       "      <th>Doors_04-May</th>\n",
       "      <th>Doors_&gt;5</th>\n",
       "      <th>Wheel_Right-hand drive</th>\n",
       "    </tr>\n",
       "  </thead>\n",
       "  <tbody>\n",
       "    <tr>\n",
       "      <th>0</th>\n",
       "      <td>13328</td>\n",
       "      <td>2010</td>\n",
       "      <td>6.0</td>\n",
       "      <td>12</td>\n",
       "      <td>1.0</td>\n",
       "      <td>0.0</td>\n",
       "      <td>0.0</td>\n",
       "      <td>0.0</td>\n",
       "      <td>0.0</td>\n",
       "      <td>0.0</td>\n",
       "      <td>1.0</td>\n",
       "      <td>0.0</td>\n",
       "      <td>0.0</td>\n",
       "    </tr>\n",
       "    <tr>\n",
       "      <th>1</th>\n",
       "      <td>16621</td>\n",
       "      <td>2011</td>\n",
       "      <td>6.0</td>\n",
       "      <td>8</td>\n",
       "      <td>0.0</td>\n",
       "      <td>0.0</td>\n",
       "      <td>1.0</td>\n",
       "      <td>0.0</td>\n",
       "      <td>0.0</td>\n",
       "      <td>0.0</td>\n",
       "      <td>1.0</td>\n",
       "      <td>0.0</td>\n",
       "      <td>0.0</td>\n",
       "    </tr>\n",
       "    <tr>\n",
       "      <th>2</th>\n",
       "      <td>8467</td>\n",
       "      <td>2006</td>\n",
       "      <td>4.0</td>\n",
       "      <td>2</td>\n",
       "      <td>0.0</td>\n",
       "      <td>0.0</td>\n",
       "      <td>0.0</td>\n",
       "      <td>1.0</td>\n",
       "      <td>1.0</td>\n",
       "      <td>0.0</td>\n",
       "      <td>1.0</td>\n",
       "      <td>0.0</td>\n",
       "      <td>1.0</td>\n",
       "    </tr>\n",
       "    <tr>\n",
       "      <th>3</th>\n",
       "      <td>3607</td>\n",
       "      <td>2011</td>\n",
       "      <td>4.0</td>\n",
       "      <td>0</td>\n",
       "      <td>1.0</td>\n",
       "      <td>0.0</td>\n",
       "      <td>0.0</td>\n",
       "      <td>0.0</td>\n",
       "      <td>0.0</td>\n",
       "      <td>0.0</td>\n",
       "      <td>1.0</td>\n",
       "      <td>0.0</td>\n",
       "      <td>0.0</td>\n",
       "    </tr>\n",
       "    <tr>\n",
       "      <th>4</th>\n",
       "      <td>11726</td>\n",
       "      <td>2014</td>\n",
       "      <td>4.0</td>\n",
       "      <td>4</td>\n",
       "      <td>1.0</td>\n",
       "      <td>0.0</td>\n",
       "      <td>0.0</td>\n",
       "      <td>0.0</td>\n",
       "      <td>1.0</td>\n",
       "      <td>0.0</td>\n",
       "      <td>1.0</td>\n",
       "      <td>0.0</td>\n",
       "      <td>0.0</td>\n",
       "    </tr>\n",
       "  </tbody>\n",
       "</table>\n",
       "</div>"
      ],
      "text/plain": [
       "   Price  Prod. year  Cylinders  Airbags  Leather interior_Yes  \\\n",
       "0  13328        2010        6.0       12                   1.0   \n",
       "1  16621        2011        6.0        8                   0.0   \n",
       "2   8467        2006        4.0        2                   0.0   \n",
       "3   3607        2011        4.0        0                   1.0   \n",
       "4  11726        2014        4.0        4                   1.0   \n",
       "\n",
       "   Gear box type_Manual  Gear box type_Tiptronic  Gear box type_Variator  \\\n",
       "0                   0.0                      0.0                     0.0   \n",
       "1                   0.0                      1.0                     0.0   \n",
       "2                   0.0                      0.0                     1.0   \n",
       "3                   0.0                      0.0                     0.0   \n",
       "4                   0.0                      0.0                     0.0   \n",
       "\n",
       "   Drive wheels_Front  Drive wheels_Rear  Doors_04-May  Doors_>5  \\\n",
       "0                 0.0                0.0           1.0       0.0   \n",
       "1                 0.0                0.0           1.0       0.0   \n",
       "2                 1.0                0.0           1.0       0.0   \n",
       "3                 0.0                0.0           1.0       0.0   \n",
       "4                 1.0                0.0           1.0       0.0   \n",
       "\n",
       "   Wheel_Right-hand drive  \n",
       "0                     0.0  \n",
       "1                     0.0  \n",
       "2                     1.0  \n",
       "3                     0.0  \n",
       "4                     0.0  "
      ]
     },
     "execution_count": 64,
     "metadata": {},
     "output_type": "execute_result"
    }
   ],
   "source": [
    "update_df = pd.concat([numeric_features, encoded_df], axis = 1)\n",
    "update_df.head()"
   ]
  },
  {
   "cell_type": "code",
   "execution_count": 65,
   "id": "a7f4bd8b-d3e4-4198-b0b2-056440345e32",
   "metadata": {},
   "outputs": [],
   "source": [
    "corr = update_df.corr()"
   ]
  },
  {
   "cell_type": "code",
   "execution_count": 66,
   "id": "90306708-9ddb-441e-b68b-b9e926755fd4",
   "metadata": {},
   "outputs": [],
   "source": [
    "import plotly.express as px"
   ]
  },
  {
   "cell_type": "code",
   "execution_count": 67,
   "id": "0cccaca6-9e1b-4e1c-89d5-90cd8077d0ea",
   "metadata": {},
   "outputs": [
    {
     "data": {
      "application/vnd.plotly.v1+json": {
       "config": {
        "plotlyServerURL": "https://plot.ly"
       },
       "data": [
        {
         "coloraxis": "coloraxis",
         "hovertemplate": "x: %{x}<br>y: %{y}<br>color: %{z}<extra></extra>",
         "name": "0",
         "texttemplate": "%{z}",
         "type": "heatmap",
         "x": [
          "Price",
          "Prod. year",
          "Cylinders",
          "Airbags",
          "Leather interior_Yes",
          "Gear box type_Manual",
          "Gear box type_Tiptronic",
          "Gear box type_Variator",
          "Drive wheels_Front",
          "Drive wheels_Rear",
          "Doors_04-May",
          "Doors_>5",
          "Wheel_Right-hand drive"
         ],
         "xaxis": "x",
         "y": [
          "Price",
          "Prod. year",
          "Cylinders",
          "Airbags",
          "Leather interior_Yes",
          "Gear box type_Manual",
          "Gear box type_Tiptronic",
          "Gear box type_Variator",
          "Drive wheels_Front",
          "Drive wheels_Rear",
          "Doors_04-May",
          "Doors_>5",
          "Wheel_Right-hand drive"
         ],
         "yaxis": "y",
         "z": {
          "bdata": "AAAAAAAA8D8fQVRRiZaKP0FvTtI3y34/D5toBUhDir9llaJs6rZIP133SEDM7Yg/29TwrheYkj88+4RDaGBwv8+5YpLJlz+/JnyxrMKgZb9MRxRHKqCgv2OniVULV1o/YUO/fCwAjr8fQVRRiZaKPwAAAAAAAPA/aJGAj7THuL+0TiexAlXOPyjhsvXX9tg/nCWIFGKc4L9IQVrA23agvyAC3tP4LJ+/ivwpQ9Jn0D/D8mvH6O3SvyH690V7vso/KmMtjcUWpL+63JaU9hPNv0FvTtI3y34/aJGAj7THuL8AAAAAAADwP4dpY5CYo8Y/K0DMZKHqyT8SwrGSVsS1v/lTf4mA0sY/J8F7zW2pt79uQKkb40jiv2QGVCFumM0/jHzCwln5qL/30mHZkfGaPwpJi+Xj8re/D5toBUhDir+0TiexAlXOP4dpY5CYo8Y/AAAAAAAA8D+L6AkJeh/FPwV68kvAIsu/TPkjYlVdzD9664haoQJ9v8Topjp09b2/V+jq/FZfsD/ZrTzRGMOmP4mKVTWnVmY/kEJ2NIjuwr9llaJs6rZIPyjhsvXX9tg/K0DMZKHqyT+L6AkJeh/FPwAAAAAAAPA/bI3IEl7o2L/DQ9ln0GSmv9FwYSlQpMi/F4WN0KUGqb91k+E4NWamv/6GaT5zw74/H7RwnzHCoL+sykIphlXWv133SEDM7Yg/nCWIFGKc4L8SwrGSVsS1vwV68kvAIsu/bI3IEl7o2L8AAAAAAADwP2on38uTccK/6kAupdXlsL8UYkFABTW6v9jxjSmDqc8/l7aWScqT0b/5GvbDAMKnP4lgpMOUs56/29TwrheYkj9IQVrA23agv/lTf4mA0sY/TPkjYlVdzD/DQ9ln0GSmv2on38uTccK/AAAAAAAA8D9JGohZuYu2v8SakayZOci/RE8Xabw9xD8DCCpVcqipv0Klz/S1H6I/Fi6OYcWLhz88+4RDaGBwvyAC3tP4LJ+/J8F7zW2pt79664haoQJ9v9FwYSlQpMi/6kAupdXlsL9JGohZuYu2vwAAAAAAAPA/X51pRQDluT+s6v9Ky7Kxv2davFwapKE/S5Uhp6d0Hz8rMZWD5k/LP8+5YpLJlz+/ivwpQ9Jn0D9uQKkb40jiv8Topjp09b2/F4WN0KUGqb8UYkFABTW6v8SakayZOci/X51pRQDluT8AAAAAAADwP0L+wRJLy+C/VZvUdiHgwD/E7smbVz+jv2BWqQJ19Zg/JnyxrMKgZb/D8mvH6O3Sv2QGVCFumM0/V+jq/FZfsD91k+E4NWamv9jxjSmDqc8/RE8Xabw9xD+s6v9Ky7Kxv0L+wRJLy+C/AAAAAAAA8D/+SvMZd0/Mv+V9sXInzKA/3ASeDUlNmr9MRxRHKqCgvyH690V7vso/jHzCwln5qL/ZrTzRGMOmP/6GaT5zw74/l7aWScqT0b8DCCpVcqipv2davFwapKE/VZvUdiHgwD/+SvMZd0/MvwAAAAAAAPA/uI5WGSGT17/lggw7VTGQv2OniVULV1o/KmMtjcUWpL/30mHZkfGaP4mKVTWnVmY/H7RwnzHCoL/5GvbDAMKnP0Klz/S1H6I/S5Uhp6d0Hz/E7smbVz+jv+V9sXInzKA/uI5WGSGT178AAAAAAADwP6Ky3nV63XQ/YUO/fCwAjr+63JaU9hPNvwpJi+Xj8re/kEJ2NIjuwr+sykIphlXWv4lgpMOUs56/Fi6OYcWLhz8rMZWD5k/LP2BWqQJ19Zg/3ASeDUlNmr/lggw7VTGQv6Ky3nV63XQ/AAAAAAAA8D8=",
          "dtype": "f8",
          "shape": "13, 13"
         }
        }
       ],
       "layout": {
        "coloraxis": {
         "colorscale": [
          [
           0,
           "#0d0887"
          ],
          [
           0.1111111111111111,
           "#46039f"
          ],
          [
           0.2222222222222222,
           "#7201a8"
          ],
          [
           0.3333333333333333,
           "#9c179e"
          ],
          [
           0.4444444444444444,
           "#bd3786"
          ],
          [
           0.5555555555555556,
           "#d8576b"
          ],
          [
           0.6666666666666666,
           "#ed7953"
          ],
          [
           0.7777777777777778,
           "#fb9f3a"
          ],
          [
           0.8888888888888888,
           "#fdca26"
          ],
          [
           1,
           "#f0f921"
          ]
         ]
        },
        "height": 800,
        "margin": {
         "t": 60
        },
        "template": {
         "data": {
          "bar": [
           {
            "error_x": {
             "color": "#2a3f5f"
            },
            "error_y": {
             "color": "#2a3f5f"
            },
            "marker": {
             "line": {
              "color": "#E5ECF6",
              "width": 0.5
             },
             "pattern": {
              "fillmode": "overlay",
              "size": 10,
              "solidity": 0.2
             }
            },
            "type": "bar"
           }
          ],
          "barpolar": [
           {
            "marker": {
             "line": {
              "color": "#E5ECF6",
              "width": 0.5
             },
             "pattern": {
              "fillmode": "overlay",
              "size": 10,
              "solidity": 0.2
             }
            },
            "type": "barpolar"
           }
          ],
          "carpet": [
           {
            "aaxis": {
             "endlinecolor": "#2a3f5f",
             "gridcolor": "white",
             "linecolor": "white",
             "minorgridcolor": "white",
             "startlinecolor": "#2a3f5f"
            },
            "baxis": {
             "endlinecolor": "#2a3f5f",
             "gridcolor": "white",
             "linecolor": "white",
             "minorgridcolor": "white",
             "startlinecolor": "#2a3f5f"
            },
            "type": "carpet"
           }
          ],
          "choropleth": [
           {
            "colorbar": {
             "outlinewidth": 0,
             "ticks": ""
            },
            "type": "choropleth"
           }
          ],
          "contour": [
           {
            "colorbar": {
             "outlinewidth": 0,
             "ticks": ""
            },
            "colorscale": [
             [
              0,
              "#0d0887"
             ],
             [
              0.1111111111111111,
              "#46039f"
             ],
             [
              0.2222222222222222,
              "#7201a8"
             ],
             [
              0.3333333333333333,
              "#9c179e"
             ],
             [
              0.4444444444444444,
              "#bd3786"
             ],
             [
              0.5555555555555556,
              "#d8576b"
             ],
             [
              0.6666666666666666,
              "#ed7953"
             ],
             [
              0.7777777777777778,
              "#fb9f3a"
             ],
             [
              0.8888888888888888,
              "#fdca26"
             ],
             [
              1,
              "#f0f921"
             ]
            ],
            "type": "contour"
           }
          ],
          "contourcarpet": [
           {
            "colorbar": {
             "outlinewidth": 0,
             "ticks": ""
            },
            "type": "contourcarpet"
           }
          ],
          "heatmap": [
           {
            "colorbar": {
             "outlinewidth": 0,
             "ticks": ""
            },
            "colorscale": [
             [
              0,
              "#0d0887"
             ],
             [
              0.1111111111111111,
              "#46039f"
             ],
             [
              0.2222222222222222,
              "#7201a8"
             ],
             [
              0.3333333333333333,
              "#9c179e"
             ],
             [
              0.4444444444444444,
              "#bd3786"
             ],
             [
              0.5555555555555556,
              "#d8576b"
             ],
             [
              0.6666666666666666,
              "#ed7953"
             ],
             [
              0.7777777777777778,
              "#fb9f3a"
             ],
             [
              0.8888888888888888,
              "#fdca26"
             ],
             [
              1,
              "#f0f921"
             ]
            ],
            "type": "heatmap"
           }
          ],
          "histogram": [
           {
            "marker": {
             "pattern": {
              "fillmode": "overlay",
              "size": 10,
              "solidity": 0.2
             }
            },
            "type": "histogram"
           }
          ],
          "histogram2d": [
           {
            "colorbar": {
             "outlinewidth": 0,
             "ticks": ""
            },
            "colorscale": [
             [
              0,
              "#0d0887"
             ],
             [
              0.1111111111111111,
              "#46039f"
             ],
             [
              0.2222222222222222,
              "#7201a8"
             ],
             [
              0.3333333333333333,
              "#9c179e"
             ],
             [
              0.4444444444444444,
              "#bd3786"
             ],
             [
              0.5555555555555556,
              "#d8576b"
             ],
             [
              0.6666666666666666,
              "#ed7953"
             ],
             [
              0.7777777777777778,
              "#fb9f3a"
             ],
             [
              0.8888888888888888,
              "#fdca26"
             ],
             [
              1,
              "#f0f921"
             ]
            ],
            "type": "histogram2d"
           }
          ],
          "histogram2dcontour": [
           {
            "colorbar": {
             "outlinewidth": 0,
             "ticks": ""
            },
            "colorscale": [
             [
              0,
              "#0d0887"
             ],
             [
              0.1111111111111111,
              "#46039f"
             ],
             [
              0.2222222222222222,
              "#7201a8"
             ],
             [
              0.3333333333333333,
              "#9c179e"
             ],
             [
              0.4444444444444444,
              "#bd3786"
             ],
             [
              0.5555555555555556,
              "#d8576b"
             ],
             [
              0.6666666666666666,
              "#ed7953"
             ],
             [
              0.7777777777777778,
              "#fb9f3a"
             ],
             [
              0.8888888888888888,
              "#fdca26"
             ],
             [
              1,
              "#f0f921"
             ]
            ],
            "type": "histogram2dcontour"
           }
          ],
          "mesh3d": [
           {
            "colorbar": {
             "outlinewidth": 0,
             "ticks": ""
            },
            "type": "mesh3d"
           }
          ],
          "parcoords": [
           {
            "line": {
             "colorbar": {
              "outlinewidth": 0,
              "ticks": ""
             }
            },
            "type": "parcoords"
           }
          ],
          "pie": [
           {
            "automargin": true,
            "type": "pie"
           }
          ],
          "scatter": [
           {
            "fillpattern": {
             "fillmode": "overlay",
             "size": 10,
             "solidity": 0.2
            },
            "type": "scatter"
           }
          ],
          "scatter3d": [
           {
            "line": {
             "colorbar": {
              "outlinewidth": 0,
              "ticks": ""
             }
            },
            "marker": {
             "colorbar": {
              "outlinewidth": 0,
              "ticks": ""
             }
            },
            "type": "scatter3d"
           }
          ],
          "scattercarpet": [
           {
            "marker": {
             "colorbar": {
              "outlinewidth": 0,
              "ticks": ""
             }
            },
            "type": "scattercarpet"
           }
          ],
          "scattergeo": [
           {
            "marker": {
             "colorbar": {
              "outlinewidth": 0,
              "ticks": ""
             }
            },
            "type": "scattergeo"
           }
          ],
          "scattergl": [
           {
            "marker": {
             "colorbar": {
              "outlinewidth": 0,
              "ticks": ""
             }
            },
            "type": "scattergl"
           }
          ],
          "scattermap": [
           {
            "marker": {
             "colorbar": {
              "outlinewidth": 0,
              "ticks": ""
             }
            },
            "type": "scattermap"
           }
          ],
          "scattermapbox": [
           {
            "marker": {
             "colorbar": {
              "outlinewidth": 0,
              "ticks": ""
             }
            },
            "type": "scattermapbox"
           }
          ],
          "scatterpolar": [
           {
            "marker": {
             "colorbar": {
              "outlinewidth": 0,
              "ticks": ""
             }
            },
            "type": "scatterpolar"
           }
          ],
          "scatterpolargl": [
           {
            "marker": {
             "colorbar": {
              "outlinewidth": 0,
              "ticks": ""
             }
            },
            "type": "scatterpolargl"
           }
          ],
          "scatterternary": [
           {
            "marker": {
             "colorbar": {
              "outlinewidth": 0,
              "ticks": ""
             }
            },
            "type": "scatterternary"
           }
          ],
          "surface": [
           {
            "colorbar": {
             "outlinewidth": 0,
             "ticks": ""
            },
            "colorscale": [
             [
              0,
              "#0d0887"
             ],
             [
              0.1111111111111111,
              "#46039f"
             ],
             [
              0.2222222222222222,
              "#7201a8"
             ],
             [
              0.3333333333333333,
              "#9c179e"
             ],
             [
              0.4444444444444444,
              "#bd3786"
             ],
             [
              0.5555555555555556,
              "#d8576b"
             ],
             [
              0.6666666666666666,
              "#ed7953"
             ],
             [
              0.7777777777777778,
              "#fb9f3a"
             ],
             [
              0.8888888888888888,
              "#fdca26"
             ],
             [
              1,
              "#f0f921"
             ]
            ],
            "type": "surface"
           }
          ],
          "table": [
           {
            "cells": {
             "fill": {
              "color": "#EBF0F8"
             },
             "line": {
              "color": "white"
             }
            },
            "header": {
             "fill": {
              "color": "#C8D4E3"
             },
             "line": {
              "color": "white"
             }
            },
            "type": "table"
           }
          ]
         },
         "layout": {
          "annotationdefaults": {
           "arrowcolor": "#2a3f5f",
           "arrowhead": 0,
           "arrowwidth": 1
          },
          "autotypenumbers": "strict",
          "coloraxis": {
           "colorbar": {
            "outlinewidth": 0,
            "ticks": ""
           }
          },
          "colorscale": {
           "diverging": [
            [
             0,
             "#8e0152"
            ],
            [
             0.1,
             "#c51b7d"
            ],
            [
             0.2,
             "#de77ae"
            ],
            [
             0.3,
             "#f1b6da"
            ],
            [
             0.4,
             "#fde0ef"
            ],
            [
             0.5,
             "#f7f7f7"
            ],
            [
             0.6,
             "#e6f5d0"
            ],
            [
             0.7,
             "#b8e186"
            ],
            [
             0.8,
             "#7fbc41"
            ],
            [
             0.9,
             "#4d9221"
            ],
            [
             1,
             "#276419"
            ]
           ],
           "sequential": [
            [
             0,
             "#0d0887"
            ],
            [
             0.1111111111111111,
             "#46039f"
            ],
            [
             0.2222222222222222,
             "#7201a8"
            ],
            [
             0.3333333333333333,
             "#9c179e"
            ],
            [
             0.4444444444444444,
             "#bd3786"
            ],
            [
             0.5555555555555556,
             "#d8576b"
            ],
            [
             0.6666666666666666,
             "#ed7953"
            ],
            [
             0.7777777777777778,
             "#fb9f3a"
            ],
            [
             0.8888888888888888,
             "#fdca26"
            ],
            [
             1,
             "#f0f921"
            ]
           ],
           "sequentialminus": [
            [
             0,
             "#0d0887"
            ],
            [
             0.1111111111111111,
             "#46039f"
            ],
            [
             0.2222222222222222,
             "#7201a8"
            ],
            [
             0.3333333333333333,
             "#9c179e"
            ],
            [
             0.4444444444444444,
             "#bd3786"
            ],
            [
             0.5555555555555556,
             "#d8576b"
            ],
            [
             0.6666666666666666,
             "#ed7953"
            ],
            [
             0.7777777777777778,
             "#fb9f3a"
            ],
            [
             0.8888888888888888,
             "#fdca26"
            ],
            [
             1,
             "#f0f921"
            ]
           ]
          },
          "colorway": [
           "#636efa",
           "#EF553B",
           "#00cc96",
           "#ab63fa",
           "#FFA15A",
           "#19d3f3",
           "#FF6692",
           "#B6E880",
           "#FF97FF",
           "#FECB52"
          ],
          "font": {
           "color": "#2a3f5f"
          },
          "geo": {
           "bgcolor": "white",
           "lakecolor": "white",
           "landcolor": "#E5ECF6",
           "showlakes": true,
           "showland": true,
           "subunitcolor": "white"
          },
          "hoverlabel": {
           "align": "left"
          },
          "hovermode": "closest",
          "mapbox": {
           "style": "light"
          },
          "paper_bgcolor": "white",
          "plot_bgcolor": "#E5ECF6",
          "polar": {
           "angularaxis": {
            "gridcolor": "white",
            "linecolor": "white",
            "ticks": ""
           },
           "bgcolor": "#E5ECF6",
           "radialaxis": {
            "gridcolor": "white",
            "linecolor": "white",
            "ticks": ""
           }
          },
          "scene": {
           "xaxis": {
            "backgroundcolor": "#E5ECF6",
            "gridcolor": "white",
            "gridwidth": 2,
            "linecolor": "white",
            "showbackground": true,
            "ticks": "",
            "zerolinecolor": "white"
           },
           "yaxis": {
            "backgroundcolor": "#E5ECF6",
            "gridcolor": "white",
            "gridwidth": 2,
            "linecolor": "white",
            "showbackground": true,
            "ticks": "",
            "zerolinecolor": "white"
           },
           "zaxis": {
            "backgroundcolor": "#E5ECF6",
            "gridcolor": "white",
            "gridwidth": 2,
            "linecolor": "white",
            "showbackground": true,
            "ticks": "",
            "zerolinecolor": "white"
           }
          },
          "shapedefaults": {
           "line": {
            "color": "#2a3f5f"
           }
          },
          "ternary": {
           "aaxis": {
            "gridcolor": "white",
            "linecolor": "white",
            "ticks": ""
           },
           "baxis": {
            "gridcolor": "white",
            "linecolor": "white",
            "ticks": ""
           },
           "bgcolor": "#E5ECF6",
           "caxis": {
            "gridcolor": "white",
            "linecolor": "white",
            "ticks": ""
           }
          },
          "title": {
           "x": 0.05
          },
          "xaxis": {
           "automargin": true,
           "gridcolor": "white",
           "linecolor": "white",
           "ticks": "",
           "title": {
            "standoff": 15
           },
           "zerolinecolor": "white",
           "zerolinewidth": 2
          },
          "yaxis": {
           "automargin": true,
           "gridcolor": "white",
           "linecolor": "white",
           "ticks": "",
           "title": {
            "standoff": 15
           },
           "zerolinecolor": "white",
           "zerolinewidth": 2
          }
         }
        },
        "width": 1000,
        "xaxis": {
         "anchor": "y",
         "constrain": "domain",
         "domain": [
          0,
          1
         ],
         "scaleanchor": "y"
        },
        "yaxis": {
         "anchor": "x",
         "autorange": "reversed",
         "constrain": "domain",
         "domain": [
          0,
          1
         ]
        }
       }
      }
     },
     "metadata": {},
     "output_type": "display_data"
    }
   ],
   "source": [
    "px.imshow(corr,text_auto=True, width=1000, height = 800)"
   ]
  },
  {
   "cell_type": "code",
   "execution_count": 68,
   "id": "d83b295a-6c56-4ba7-a88f-ddbded2cf2a1",
   "metadata": {},
   "outputs": [],
   "source": [
    "x = update_df.drop(\"Price\", axis = 1)\n",
    "y = update_df[\"Price\"]"
   ]
  },
  {
   "cell_type": "code",
   "execution_count": 69,
   "id": "6310e19e-f3a2-4118-84bb-4ef223a1c47c",
   "metadata": {},
   "outputs": [],
   "source": [
    "from sklearn.model_selection import train_test_split\n",
    "\n",
    "X_train, X_test, y_train, y_test = train_test_split(\n",
    "    x, y, \n",
    "    test_size=0.2,      # 80-20 split\n",
    "    random_state=42     # For reproducibility\n",
    ")"
   ]
  },
  {
   "cell_type": "code",
   "execution_count": 70,
   "id": "05872dd1-d60d-4fd9-aa38-cf25f3335e3d",
   "metadata": {},
   "outputs": [],
   "source": [
    "from sklearn.preprocessing import StandardScaler\n",
    "\n",
    "scaler = StandardScaler()\n",
    "X_train_scaled = scaler.fit_transform(X_train)\n",
    "X_test_scaled = scaler.transform(X_test)  # Don't fit on test!"
   ]
  },
  {
   "cell_type": "code",
   "execution_count": 71,
   "id": "14360835-5cc2-43e9-9544-7ea9a22caa7b",
   "metadata": {},
   "outputs": [],
   "source": [
    "from sklearn.linear_model import LinearRegression\n",
    "from sklearn.ensemble import RandomForestRegressor\n",
    "\n",
    "# Start with simple model\n",
    "model = LinearRegression()\n",
    "model.fit(X_train_scaled, y_train)\n",
    "\n",
    "# Make predictions\n",
    "y_pred = model.predict(X_test_scaled)"
   ]
  },
  {
   "cell_type": "code",
   "execution_count": 72,
   "id": "7f0788d6-95a0-428b-9aa3-0bcbc2adbb2a",
   "metadata": {},
   "outputs": [
    {
     "name": "stdout",
     "output_type": "stream",
     "text": [
      "(19237, 12) (19237,)\n"
     ]
    }
   ],
   "source": [
    "print(x.shape, y.shape)\n"
   ]
  },
  {
   "cell_type": "code",
   "execution_count": 73,
   "id": "758fefe3-782b-45c6-83cd-d7ac57aacdfe",
   "metadata": {},
   "outputs": [
    {
     "data": {
      "image/png": "[encoded data removed]",
      "text/plain": [
       "<Figure size 640x480 with 1 Axes>"
      ]
     },
     "metadata": {},
     "output_type": "display_data"
    }
   ],
   "source": [
    "import matplotlib.pyplot as plt\n",
    "plt.hist(y, bins=50)\n",
    "plt.show()\n"
   ]
  },
  {
   "cell_type": "code",
   "execution_count": 74,
   "id": "362324d6-69e4-4062-b8e8-a0335bd39ff0",
   "metadata": {},
   "outputs": [
    {
     "name": "stdout",
     "output_type": "stream",
     "text": [
      "(18864, 12) (18864,)\n"
     ]
    }
   ],
   "source": [
    "import numpy as np\n",
    "\n",
    "q_low = y.quantile(0.01)\n",
    "q_high = y.quantile(0.99)\n",
    "\n",
    "mask = (y >= q_low) & (y <= q_high)\n",
    "x_filtered = x[mask]\n",
    "y_filtered = y[mask]\n",
    "\n",
    "print(x_filtered.shape, y_filtered.shape)\n"
   ]
  },
  {
   "cell_type": "code",
   "execution_count": 75,
   "id": "f3f77872-7104-4be2-8b52-dcafc436a6b6",
   "metadata": {},
   "outputs": [
    {
     "name": "stdout",
     "output_type": "stream",
     "text": [
      "MAE: 12749.8226026036\n",
      "RMSE: 18939.620691276392\n",
      "R2: -0.15119746180590177\n"
     ]
    }
   ],
   "source": [
    "from sklearn.metrics import mean_absolute_error, mean_squared_error, r2_score\n",
    "import numpy as np\n",
    "\n",
    "y_pred = model.predict(X_test_scaled)\n",
    "\n",
    "print(\"MAE:\", mean_absolute_error(y_test, y_pred))\n",
    "print(\"RMSE:\", np.sqrt(mean_squared_error(y_test, y_pred)))\n",
    "print(\"R2:\", r2_score(y_test, y_pred))\n"
   ]
  },
  {
   "cell_type": "code",
   "execution_count": 76,
   "id": "17003c64-8395-47b2-b4be-894d0b63d849",
   "metadata": {},
   "outputs": [
    {
     "name": "stdout",
     "output_type": "stream",
     "text": [
      "Features used: ['Prod. year', 'Cylinders', 'Airbags', 'Leather interior_Yes', 'Gear box type_Manual', 'Gear box type_Tiptronic', 'Gear box type_Variator', 'Drive wheels_Front', 'Drive wheels_Rear', 'Doors_04-May', 'Doors_>5', 'Wheel_Right-hand drive']\n",
      "Any 'Price' in features? False\n"
     ]
    }
   ],
   "source": [
    "# Make sure Price isn't in your features\n",
    "print(\"Features used:\", X_train.columns.tolist())\n",
    "print(\"Any 'Price' in features?\", 'Price' in X_train.columns)"
   ]
  },
  {
   "cell_type": "code",
   "execution_count": 77,
   "id": "2cd3498b-c7c5-4863-babf-fd732bd4778c",
   "metadata": {},
   "outputs": [
    {
     "name": "stdout",
     "output_type": "stream",
     "text": [
      "Feature ranges:\n"
     ]
    },
    {
     "data": {
      "text/html": [
       "<div>\n",
       "<style scoped>\n",
       "    .dataframe tbody tr th:only-of-type {\n",
       "        vertical-align: middle;\n",
       "    }\n",
       "\n",
       "    .dataframe tbody tr th {\n",
       "        vertical-align: top;\n",
       "    }\n",
       "\n",
       "    .dataframe thead th {\n",
       "        text-align: right;\n",
       "    }\n",
       "</style>\n",
       "<table border=\"1\" class=\"dataframe\">\n",
       "  <thead>\n",
       "    <tr style=\"text-align: right;\">\n",
       "      <th></th>\n",
       "      <th>Prod. year</th>\n",
       "      <th>Cylinders</th>\n",
       "      <th>Airbags</th>\n",
       "      <th>Leather interior_Yes</th>\n",
       "      <th>Gear box type_Manual</th>\n",
       "      <th>Gear box type_Tiptronic</th>\n",
       "      <th>Gear box type_Variator</th>\n",
       "      <th>Drive wheels_Front</th>\n",
       "      <th>Drive wheels_Rear</th>\n",
       "      <th>Doors_04-May</th>\n",
       "      <th>Doors_&gt;5</th>\n",
       "      <th>Wheel_Right-hand drive</th>\n",
       "    </tr>\n",
       "  </thead>\n",
       "  <tbody>\n",
       "    <tr>\n",
       "      <th>count</th>\n",
       "      <td>15389.000000</td>\n",
       "      <td>15389.000000</td>\n",
       "      <td>15389.000000</td>\n",
       "      <td>15389.000000</td>\n",
       "      <td>15389.000000</td>\n",
       "      <td>15389.000000</td>\n",
       "      <td>15389.000000</td>\n",
       "      <td>15389.000000</td>\n",
       "      <td>15389.00000</td>\n",
       "      <td>15389.000000</td>\n",
       "      <td>15389.000000</td>\n",
       "      <td>15389.000000</td>\n",
       "    </tr>\n",
       "    <tr>\n",
       "      <th>mean</th>\n",
       "      <td>2010.944181</td>\n",
       "      <td>4.579635</td>\n",
       "      <td>6.572942</td>\n",
       "      <td>0.727468</td>\n",
       "      <td>0.096562</td>\n",
       "      <td>0.161544</td>\n",
       "      <td>0.038599</td>\n",
       "      <td>0.671844</td>\n",
       "      <td>0.12132</td>\n",
       "      <td>0.952823</td>\n",
       "      <td>0.007408</td>\n",
       "      <td>0.076028</td>\n",
       "    </tr>\n",
       "    <tr>\n",
       "      <th>std</th>\n",
       "      <td>5.637089</td>\n",
       "      <td>1.194924</td>\n",
       "      <td>4.326692</td>\n",
       "      <td>0.445277</td>\n",
       "      <td>0.295371</td>\n",
       "      <td>0.368044</td>\n",
       "      <td>0.192644</td>\n",
       "      <td>0.469557</td>\n",
       "      <td>0.32651</td>\n",
       "      <td>0.212023</td>\n",
       "      <td>0.085752</td>\n",
       "      <td>0.265052</td>\n",
       "    </tr>\n",
       "    <tr>\n",
       "      <th>min</th>\n",
       "      <td>1939.000000</td>\n",
       "      <td>1.000000</td>\n",
       "      <td>0.000000</td>\n",
       "      <td>0.000000</td>\n",
       "      <td>0.000000</td>\n",
       "      <td>0.000000</td>\n",
       "      <td>0.000000</td>\n",
       "      <td>0.000000</td>\n",
       "      <td>0.00000</td>\n",
       "      <td>0.000000</td>\n",
       "      <td>0.000000</td>\n",
       "      <td>0.000000</td>\n",
       "    </tr>\n",
       "    <tr>\n",
       "      <th>25%</th>\n",
       "      <td>2009.000000</td>\n",
       "      <td>4.000000</td>\n",
       "      <td>4.000000</td>\n",
       "      <td>0.000000</td>\n",
       "      <td>0.000000</td>\n",
       "      <td>0.000000</td>\n",
       "      <td>0.000000</td>\n",
       "      <td>0.000000</td>\n",
       "      <td>0.00000</td>\n",
       "      <td>1.000000</td>\n",
       "      <td>0.000000</td>\n",
       "      <td>0.000000</td>\n",
       "    </tr>\n",
       "    <tr>\n",
       "      <th>50%</th>\n",
       "      <td>2012.000000</td>\n",
       "      <td>4.000000</td>\n",
       "      <td>6.000000</td>\n",
       "      <td>1.000000</td>\n",
       "      <td>0.000000</td>\n",
       "      <td>0.000000</td>\n",
       "      <td>0.000000</td>\n",
       "      <td>1.000000</td>\n",
       "      <td>0.00000</td>\n",
       "      <td>1.000000</td>\n",
       "      <td>0.000000</td>\n",
       "      <td>0.000000</td>\n",
       "    </tr>\n",
       "    <tr>\n",
       "      <th>75%</th>\n",
       "      <td>2015.000000</td>\n",
       "      <td>4.000000</td>\n",
       "      <td>12.000000</td>\n",
       "      <td>1.000000</td>\n",
       "      <td>0.000000</td>\n",
       "      <td>0.000000</td>\n",
       "      <td>0.000000</td>\n",
       "      <td>1.000000</td>\n",
       "      <td>0.00000</td>\n",
       "      <td>1.000000</td>\n",
       "      <td>0.000000</td>\n",
       "      <td>0.000000</td>\n",
       "    </tr>\n",
       "    <tr>\n",
       "      <th>max</th>\n",
       "      <td>2020.000000</td>\n",
       "      <td>16.000000</td>\n",
       "      <td>16.000000</td>\n",
       "      <td>1.000000</td>\n",
       "      <td>1.000000</td>\n",
       "      <td>1.000000</td>\n",
       "      <td>1.000000</td>\n",
       "      <td>1.000000</td>\n",
       "      <td>1.00000</td>\n",
       "      <td>1.000000</td>\n",
       "      <td>1.000000</td>\n",
       "      <td>1.000000</td>\n",
       "    </tr>\n",
       "  </tbody>\n",
       "</table>\n",
       "</div>"
      ],
      "text/plain": [
       "         Prod. year     Cylinders       Airbags  Leather interior_Yes  \\\n",
       "count  15389.000000  15389.000000  15389.000000          15389.000000   \n",
       "mean    2010.944181      4.579635      6.572942              0.727468   \n",
       "std        5.637089      1.194924      4.326692              0.445277   \n",
       "min     1939.000000      1.000000      0.000000              0.000000   \n",
       "25%     2009.000000      4.000000      4.000000              0.000000   \n",
       "50%     2012.000000      4.000000      6.000000              1.000000   \n",
       "75%     2015.000000      4.000000     12.000000              1.000000   \n",
       "max     2020.000000     16.000000     16.000000              1.000000   \n",
       "\n",
       "       Gear box type_Manual  Gear box type_Tiptronic  Gear box type_Variator  \\\n",
       "count          15389.000000             15389.000000            15389.000000   \n",
       "mean               0.096562                 0.161544                0.038599   \n",
       "std                0.295371                 0.368044                0.192644   \n",
       "min                0.000000                 0.000000                0.000000   \n",
       "25%                0.000000                 0.000000                0.000000   \n",
       "50%                0.000000                 0.000000                0.000000   \n",
       "75%                0.000000                 0.000000                0.000000   \n",
       "max                1.000000                 1.000000                1.000000   \n",
       "\n",
       "       Drive wheels_Front  Drive wheels_Rear  Doors_04-May      Doors_>5  \\\n",
       "count        15389.000000        15389.00000  15389.000000  15389.000000   \n",
       "mean             0.671844            0.12132      0.952823      0.007408   \n",
       "std              0.469557            0.32651      0.212023      0.085752   \n",
       "min              0.000000            0.00000      0.000000      0.000000   \n",
       "25%              0.000000            0.00000      1.000000      0.000000   \n",
       "50%              1.000000            0.00000      1.000000      0.000000   \n",
       "75%              1.000000            0.00000      1.000000      0.000000   \n",
       "max              1.000000            1.00000      1.000000      1.000000   \n",
       "\n",
       "       Wheel_Right-hand drive  \n",
       "count            15389.000000  \n",
       "mean                 0.076028  \n",
       "std                  0.265052  \n",
       "min                  0.000000  \n",
       "25%                  0.000000  \n",
       "50%                  0.000000  \n",
       "75%                  0.000000  \n",
       "max                  1.000000  "
      ]
     },
     "execution_count": 77,
     "metadata": {},
     "output_type": "execute_result"
    }
   ],
   "source": [
    "# Check if you scaled the data\n",
    "print(\"Feature ranges:\")\n",
    "X_train.describe()"
   ]
  },
  {
   "cell_type": "code",
   "execution_count": 78,
   "id": "13bec5d5-dd29-4638-ac99-13139b7b7bb5",
   "metadata": {},
   "outputs": [],
   "source": [
    "import numpy as np\n",
    "\n",
    "y_log = np.log1p(y)   # log(1 + y) to avoid log(0)\n"
   ]
  },
  {
   "cell_type": "code",
   "execution_count": 79,
   "id": "373b9905-5813-4024-b49e-405620665499",
   "metadata": {},
   "outputs": [
    {
     "data": {
      "text/html": [
       "<style>#sk-container-id-2 {\n",
       "  /* Definition of color scheme common for light and dark mode */\n",
       "  --sklearn-color-text: #000;\n",
       "  --sklearn-color-text-muted: #666;\n",
       "  --sklearn-color-line: gray;\n",
       "  /* Definition of color scheme for unfitted estimators */\n",
       "  --sklearn-color-unfitted-level-0: #fff5e6;\n",
       "  --sklearn-color-unfitted-level-1: #f6e4d2;\n",
       "  --sklearn-color-unfitted-level-2: #ffe0b3;\n",
       "  --sklearn-color-unfitted-level-3: chocolate;\n",
       "  /* Definition of color scheme for fitted estimators */\n",
       "  --sklearn-color-fitted-level-0: #f0f8ff;\n",
       "  --sklearn-color-fitted-level-1: #d4ebff;\n",
       "  --sklearn-color-fitted-level-2: #b3dbfd;\n",
       "  --sklearn-color-fitted-level-3: cornflowerblue;\n",
       "\n",
       "  /* Specific color for light theme */\n",
       "  --sklearn-color-text-on-default-background: var(--sg-text-color, var(--theme-code-foreground, var(--jp-content-font-color1, black)));\n",
       "  --sklearn-color-background: var(--sg-background-color, var(--theme-background, var(--jp-layout-color0, white)));\n",
       "  --sklearn-color-border-box: var(--sg-text-color, var(--theme-code-foreground, var(--jp-content-font-color1, black)));\n",
       "  --sklearn-color-icon: #696969;\n",
       "\n",
       "  @media (prefers-color-scheme: dark) {\n",
       "    /* Redefinition of color scheme for dark theme */\n",
       "    --sklearn-color-text-on-default-background: var(--sg-text-color, var(--theme-code-foreground, var(--jp-content-font-color1, white)));\n",
       "    --sklearn-color-background: var(--sg-background-color, var(--theme-background, var(--jp-layout-color0, #111)));\n",
       "    --sklearn-color-border-box: var(--sg-text-color, var(--theme-code-foreground, var(--jp-content-font-color1, white)));\n",
       "    --sklearn-color-icon: #878787;\n",
       "  }\n",
       "}\n",
       "\n",
       "#sk-container-id-2 {\n",
       "  color: var(--sklearn-color-text);\n",
       "}\n",
       "\n",
       "#sk-container-id-2 pre {\n",
       "  padding: 0;\n",
       "}\n",
       "\n",
       "#sk-container-id-2 input.sk-hidden--visually {\n",
       "  border: 0;\n",
       "  clip: rect(1px 1px 1px 1px);\n",
       "  clip: rect(1px, 1px, 1px, 1px);\n",
       "  height: 1px;\n",
       "  margin: -1px;\n",
       "  overflow: hidden;\n",
       "  padding: 0;\n",
       "  position: absolute;\n",
       "  width: 1px;\n",
       "}\n",
       "\n",
       "#sk-container-id-2 div.sk-dashed-wrapped {\n",
       "  border: 1px dashed var(--sklearn-color-line);\n",
       "  margin: 0 0.4em 0.5em 0.4em;\n",
       "  box-sizing: border-box;\n",
       "  padding-bottom: 0.4em;\n",
       "  background-color: var(--sklearn-color-background);\n",
       "}\n",
       "\n",
       "#sk-container-id-2 div.sk-container {\n",
       "  /* jupyter's `normalize.less` sets `[hidden] { display: none; }`\n",
       "     but bootstrap.min.css set `[hidden] { display: none !important; }`\n",
       "     so we also need the `!important` here to be able to override the\n",
       "     default hidden behavior on the sphinx rendered scikit-learn.org.\n",
       "     See: https://github.com/scikit-learn/scikit-learn/issues/21755 */\n",
       "  display: inline-block !important;\n",
       "  position: relative;\n",
       "}\n",
       "\n",
       "#sk-container-id-2 div.sk-text-repr-fallback {\n",
       "  display: none;\n",
       "}\n",
       "\n",
       "div.sk-parallel-item,\n",
       "div.sk-serial,\n",
       "div.sk-item {\n",
       "  /* draw centered vertical line to link estimators */\n",
       "  background-image: linear-gradient(var(--sklearn-color-text-on-default-background), var(--sklearn-color-text-on-default-background));\n",
       "  background-size: 2px 100%;\n",
       "  background-repeat: no-repeat;\n",
       "  background-position: center center;\n",
       "}\n",
       "\n",
       "/* Parallel-specific style estimator block */\n",
       "\n",
       "#sk-container-id-2 div.sk-parallel-item::after {\n",
       "  content: \"\";\n",
       "  width: 100%;\n",
       "  border-bottom: 2px solid var(--sklearn-color-text-on-default-background);\n",
       "  flex-grow: 1;\n",
       "}\n",
       "\n",
       "#sk-container-id-2 div.sk-parallel {\n",
       "  display: flex;\n",
       "  align-items: stretch;\n",
       "  justify-content: center;\n",
       "  background-color: var(--sklearn-color-background);\n",
       "  position: relative;\n",
       "}\n",
       "\n",
       "#sk-container-id-2 div.sk-parallel-item {\n",
       "  display: flex;\n",
       "  flex-direction: column;\n",
       "}\n",
       "\n",
       "#sk-container-id-2 div.sk-parallel-item:first-child::after {\n",
       "  align-self: flex-end;\n",
       "  width: 50%;\n",
       "}\n",
       "\n",
       "#sk-container-id-2 div.sk-parallel-item:last-child::after {\n",
       "  align-self: flex-start;\n",
       "  width: 50%;\n",
       "}\n",
       "\n",
       "#sk-container-id-2 div.sk-parallel-item:only-child::after {\n",
       "  width: 0;\n",
       "}\n",
       "\n",
       "/* Serial-specific style estimator block */\n",
       "\n",
       "#sk-container-id-2 div.sk-serial {\n",
       "  display: flex;\n",
       "  flex-direction: column;\n",
       "  align-items: center;\n",
       "  background-color: var(--sklearn-color-background);\n",
       "  padding-right: 1em;\n",
       "  padding-left: 1em;\n",
       "}\n",
       "\n",
       "\n",
       "/* Toggleable style: style used for estimator/Pipeline/ColumnTransformer box that is\n",
       "clickable and can be expanded/collapsed.\n",
       "- Pipeline and ColumnTransformer use this feature and define the default style\n",
       "- Estimators will overwrite some part of the style using the `sk-estimator` class\n",
       "*/\n",
       "\n",
       "/* Pipeline and ColumnTransformer style (default) */\n",
       "\n",
       "#sk-container-id-2 div.sk-toggleable {\n",
       "  /* Default theme specific background. It is overwritten whether we have a\n",
       "  specific estimator or a Pipeline/ColumnTransformer */\n",
       "  background-color: var(--sklearn-color-background);\n",
       "}\n",
       "\n",
       "/* Toggleable label */\n",
       "#sk-container-id-2 label.sk-toggleable__label {\n",
       "  cursor: pointer;\n",
       "  display: flex;\n",
       "  width: 100%;\n",
       "  margin-bottom: 0;\n",
       "  padding: 0.5em;\n",
       "  box-sizing: border-box;\n",
       "  text-align: center;\n",
       "  align-items: start;\n",
       "  justify-content: space-between;\n",
       "  gap: 0.5em;\n",
       "}\n",
       "\n",
       "#sk-container-id-2 label.sk-toggleable__label .caption {\n",
       "  font-size: 0.6rem;\n",
       "  font-weight: lighter;\n",
       "  color: var(--sklearn-color-text-muted);\n",
       "}\n",
       "\n",
       "#sk-container-id-2 label.sk-toggleable__label-arrow:before {\n",
       "  /* Arrow on the left of the label */\n",
       "  content: \"▸\";\n",
       "  float: left;\n",
       "  margin-right: 0.25em;\n",
       "  color: var(--sklearn-color-icon);\n",
       "}\n",
       "\n",
       "#sk-container-id-2 label.sk-toggleable__label-arrow:hover:before {\n",
       "  color: var(--sklearn-color-text);\n",
       "}\n",
       "\n",
       "/* Toggleable content - dropdown */\n",
       "\n",
       "#sk-container-id-2 div.sk-toggleable__content {\n",
       "  display: none;\n",
       "  text-align: left;\n",
       "  /* unfitted */\n",
       "  background-color: var(--sklearn-color-unfitted-level-0);\n",
       "}\n",
       "\n",
       "#sk-container-id-2 div.sk-toggleable__content.fitted {\n",
       "  /* fitted */\n",
       "  background-color: var(--sklearn-color-fitted-level-0);\n",
       "}\n",
       "\n",
       "#sk-container-id-2 div.sk-toggleable__content pre {\n",
       "  margin: 0.2em;\n",
       "  border-radius: 0.25em;\n",
       "  color: var(--sklearn-color-text);\n",
       "  /* unfitted */\n",
       "  background-color: var(--sklearn-color-unfitted-level-0);\n",
       "}\n",
       "\n",
       "#sk-container-id-2 div.sk-toggleable__content.fitted pre {\n",
       "  /* unfitted */\n",
       "  background-color: var(--sklearn-color-fitted-level-0);\n",
       "}\n",
       "\n",
       "#sk-container-id-2 input.sk-toggleable__control:checked~div.sk-toggleable__content {\n",
       "  /* Expand drop-down */\n",
       "  display: block;\n",
       "  width: 100%;\n",
       "  overflow: visible;\n",
       "}\n",
       "\n",
       "#sk-container-id-2 input.sk-toggleable__control:checked~label.sk-toggleable__label-arrow:before {\n",
       "  content: \"▾\";\n",
       "}\n",
       "\n",
       "/* Pipeline/ColumnTransformer-specific style */\n",
       "\n",
       "#sk-container-id-2 div.sk-label input.sk-toggleable__control:checked~label.sk-toggleable__label {\n",
       "  color: var(--sklearn-color-text);\n",
       "  background-color: var(--sklearn-color-unfitted-level-2);\n",
       "}\n",
       "\n",
       "#sk-container-id-2 div.sk-label.fitted input.sk-toggleable__control:checked~label.sk-toggleable__label {\n",
       "  background-color: var(--sklearn-color-fitted-level-2);\n",
       "}\n",
       "\n",
       "/* Estimator-specific style */\n",
       "\n",
       "/* Colorize estimator box */\n",
       "#sk-container-id-2 div.sk-estimator input.sk-toggleable__control:checked~label.sk-toggleable__label {\n",
       "  /* unfitted */\n",
       "  background-color: var(--sklearn-color-unfitted-level-2);\n",
       "}\n",
       "\n",
       "#sk-container-id-2 div.sk-estimator.fitted input.sk-toggleable__control:checked~label.sk-toggleable__label {\n",
       "  /* fitted */\n",
       "  background-color: var(--sklearn-color-fitted-level-2);\n",
       "}\n",
       "\n",
       "#sk-container-id-2 div.sk-label label.sk-toggleable__label,\n",
       "#sk-container-id-2 div.sk-label label {\n",
       "  /* The background is the default theme color */\n",
       "  color: var(--sklearn-color-text-on-default-background);\n",
       "}\n",
       "\n",
       "/* On hover, darken the color of the background */\n",
       "#sk-container-id-2 div.sk-label:hover label.sk-toggleable__label {\n",
       "  color: var(--sklearn-color-text);\n",
       "  background-color: var(--sklearn-color-unfitted-level-2);\n",
       "}\n",
       "\n",
       "/* Label box, darken color on hover, fitted */\n",
       "#sk-container-id-2 div.sk-label.fitted:hover label.sk-toggleable__label.fitted {\n",
       "  color: var(--sklearn-color-text);\n",
       "  background-color: var(--sklearn-color-fitted-level-2);\n",
       "}\n",
       "\n",
       "/* Estimator label */\n",
       "\n",
       "#sk-container-id-2 div.sk-label label {\n",
       "  font-family: monospace;\n",
       "  font-weight: bold;\n",
       "  display: inline-block;\n",
       "  line-height: 1.2em;\n",
       "}\n",
       "\n",
       "#sk-container-id-2 div.sk-label-container {\n",
       "  text-align: center;\n",
       "}\n",
       "\n",
       "/* Estimator-specific */\n",
       "#sk-container-id-2 div.sk-estimator {\n",
       "  font-family: monospace;\n",
       "  border: 1px dotted var(--sklearn-color-border-box);\n",
       "  border-radius: 0.25em;\n",
       "  box-sizing: border-box;\n",
       "  margin-bottom: 0.5em;\n",
       "  /* unfitted */\n",
       "  background-color: var(--sklearn-color-unfitted-level-0);\n",
       "}\n",
       "\n",
       "#sk-container-id-2 div.sk-estimator.fitted {\n",
       "  /* fitted */\n",
       "  background-color: var(--sklearn-color-fitted-level-0);\n",
       "}\n",
       "\n",
       "/* on hover */\n",
       "#sk-container-id-2 div.sk-estimator:hover {\n",
       "  /* unfitted */\n",
       "  background-color: var(--sklearn-color-unfitted-level-2);\n",
       "}\n",
       "\n",
       "#sk-container-id-2 div.sk-estimator.fitted:hover {\n",
       "  /* fitted */\n",
       "  background-color: var(--sklearn-color-fitted-level-2);\n",
       "}\n",
       "\n",
       "/* Specification for estimator info (e.g. \"i\" and \"?\") */\n",
       "\n",
       "/* Common style for \"i\" and \"?\" */\n",
       "\n",
       ".sk-estimator-doc-link,\n",
       "a:link.sk-estimator-doc-link,\n",
       "a:visited.sk-estimator-doc-link {\n",
       "  float: right;\n",
       "  font-size: smaller;\n",
       "  line-height: 1em;\n",
       "  font-family: monospace;\n",
       "  background-color: var(--sklearn-color-background);\n",
       "  border-radius: 1em;\n",
       "  height: 1em;\n",
       "  width: 1em;\n",
       "  text-decoration: none !important;\n",
       "  margin-left: 0.5em;\n",
       "  text-align: center;\n",
       "  /* unfitted */\n",
       "  border: var(--sklearn-color-unfitted-level-1) 1pt solid;\n",
       "  color: var(--sklearn-color-unfitted-level-1);\n",
       "}\n",
       "\n",
       ".sk-estimator-doc-link.fitted,\n",
       "a:link.sk-estimator-doc-link.fitted,\n",
       "a:visited.sk-estimator-doc-link.fitted {\n",
       "  /* fitted */\n",
       "  border: var(--sklearn-color-fitted-level-1) 1pt solid;\n",
       "  color: var(--sklearn-color-fitted-level-1);\n",
       "}\n",
       "\n",
       "/* On hover */\n",
       "div.sk-estimator:hover .sk-estimator-doc-link:hover,\n",
       ".sk-estimator-doc-link:hover,\n",
       "div.sk-label-container:hover .sk-estimator-doc-link:hover,\n",
       ".sk-estimator-doc-link:hover {\n",
       "  /* unfitted */\n",
       "  background-color: var(--sklearn-color-unfitted-level-3);\n",
       "  color: var(--sklearn-color-background);\n",
       "  text-decoration: none;\n",
       "}\n",
       "\n",
       "div.sk-estimator.fitted:hover .sk-estimator-doc-link.fitted:hover,\n",
       ".sk-estimator-doc-link.fitted:hover,\n",
       "div.sk-label-container:hover .sk-estimator-doc-link.fitted:hover,\n",
       ".sk-estimator-doc-link.fitted:hover {\n",
       "  /* fitted */\n",
       "  background-color: var(--sklearn-color-fitted-level-3);\n",
       "  color: var(--sklearn-color-background);\n",
       "  text-decoration: none;\n",
       "}\n",
       "\n",
       "/* Span, style for the box shown on hovering the info icon */\n",
       ".sk-estimator-doc-link span {\n",
       "  display: none;\n",
       "  z-index: 9999;\n",
       "  position: relative;\n",
       "  font-weight: normal;\n",
       "  right: .2ex;\n",
       "  padding: .5ex;\n",
       "  margin: .5ex;\n",
       "  width: min-content;\n",
       "  min-width: 20ex;\n",
       "  max-width: 50ex;\n",
       "  color: var(--sklearn-color-text);\n",
       "  box-shadow: 2pt 2pt 4pt #999;\n",
       "  /* unfitted */\n",
       "  background: var(--sklearn-color-unfitted-level-0);\n",
       "  border: .5pt solid var(--sklearn-color-unfitted-level-3);\n",
       "}\n",
       "\n",
       ".sk-estimator-doc-link.fitted span {\n",
       "  /* fitted */\n",
       "  background: var(--sklearn-color-fitted-level-0);\n",
       "  border: var(--sklearn-color-fitted-level-3);\n",
       "}\n",
       "\n",
       ".sk-estimator-doc-link:hover span {\n",
       "  display: block;\n",
       "}\n",
       "\n",
       "/* \"?\"-specific style due to the `<a>` HTML tag */\n",
       "\n",
       "#sk-container-id-2 a.estimator_doc_link {\n",
       "  float: right;\n",
       "  font-size: 1rem;\n",
       "  line-height: 1em;\n",
       "  font-family: monospace;\n",
       "  background-color: var(--sklearn-color-background);\n",
       "  border-radius: 1rem;\n",
       "  height: 1rem;\n",
       "  width: 1rem;\n",
       "  text-decoration: none;\n",
       "  /* unfitted */\n",
       "  color: var(--sklearn-color-unfitted-level-1);\n",
       "  border: var(--sklearn-color-unfitted-level-1) 1pt solid;\n",
       "}\n",
       "\n",
       "#sk-container-id-2 a.estimator_doc_link.fitted {\n",
       "  /* fitted */\n",
       "  border: var(--sklearn-color-fitted-level-1) 1pt solid;\n",
       "  color: var(--sklearn-color-fitted-level-1);\n",
       "}\n",
       "\n",
       "/* On hover */\n",
       "#sk-container-id-2 a.estimator_doc_link:hover {\n",
       "  /* unfitted */\n",
       "  background-color: var(--sklearn-color-unfitted-level-3);\n",
       "  color: var(--sklearn-color-background);\n",
       "  text-decoration: none;\n",
       "}\n",
       "\n",
       "#sk-container-id-2 a.estimator_doc_link.fitted:hover {\n",
       "  /* fitted */\n",
       "  background-color: var(--sklearn-color-fitted-level-3);\n",
       "}\n",
       "\n",
       ".estimator-table summary {\n",
       "    padding: .5rem;\n",
       "    font-family: monospace;\n",
       "    cursor: pointer;\n",
       "}\n",
       "\n",
       ".estimator-table details[open] {\n",
       "    padding-left: 0.1rem;\n",
       "    padding-right: 0.1rem;\n",
       "    padding-bottom: 0.3rem;\n",
       "}\n",
       "\n",
       ".estimator-table .parameters-table {\n",
       "    margin-left: auto !important;\n",
       "    margin-right: auto !important;\n",
       "}\n",
       "\n",
       ".estimator-table .parameters-table tr:nth-child(odd) {\n",
       "    background-color: #fff;\n",
       "}\n",
       "\n",
       ".estimator-table .parameters-table tr:nth-child(even) {\n",
       "    background-color: #f6f6f6;\n",
       "}\n",
       "\n",
       ".estimator-table .parameters-table tr:hover {\n",
       "    background-color: #e0e0e0;\n",
       "}\n",
       "\n",
       ".estimator-table table td {\n",
       "    border: 1px solid rgba(106, 105, 104, 0.232);\n",
       "}\n",
       "\n",
       ".user-set td {\n",
       "    color:rgb(255, 94, 0);\n",
       "    text-align: left;\n",
       "}\n",
       "\n",
       ".user-set td.value pre {\n",
       "    color:rgb(255, 94, 0) !important;\n",
       "    background-color: transparent !important;\n",
       "}\n",
       "\n",
       ".default td {\n",
       "    color: black;\n",
       "    text-align: left;\n",
       "}\n",
       "\n",
       ".user-set td i,\n",
       ".default td i {\n",
       "    color: black;\n",
       "}\n",
       "\n",
       ".copy-paste-icon {\n",
       "    background-image: url(data:image/svg+xml;base64,PHN2ZyB4bWxucz0iaHR0cDovL3d3dy53My5vcmcvMjAwMC9zdmciIHZpZXdCb3g9IjAgMCA0NDggNTEyIj48IS0tIUZvbnQgQXdlc29tZSBGcmVlIDYuNy4yIGJ5IEBmb250YXdlc29tZSAtIGh0dHBzOi8vZm9udGF3ZXNvbWUuY29tIExpY2Vuc2UgLSBodHRwczovL2ZvbnRhd2Vzb21lLmNvbS9saWNlbnNlL2ZyZWUgQ29weXJpZ2h0IDIwMjUgRm9udGljb25zLCBJbmMuLS0+PHBhdGggZD0iTTIwOCAwTDMzMi4xIDBjMTIuNyAwIDI0LjkgNS4xIDMzLjkgMTQuMWw2Ny45IDY3LjljOSA5IDE0LjEgMjEuMiAxNC4xIDMzLjlMNDQ4IDMzNmMwIDI2LjUtMjEuNSA0OC00OCA0OGwtMTkyIDBjLTI2LjUgMC00OC0yMS41LTQ4LTQ4bDAtMjg4YzAtMjYuNSAyMS41LTQ4IDQ4LTQ4ek00OCAxMjhsODAgMCAwIDY0LTY0IDAgMCAyNTYgMTkyIDAgMC0zMiA2NCAwIDAgNDhjMCAyNi41LTIxLjUgNDgtNDggNDhMNDggNTEyYy0yNi41IDAtNDgtMjEuNS00OC00OEwwIDE3NmMwLTI2LjUgMjEuNS00OCA0OC00OHoiLz48L3N2Zz4=);\n",
       "    background-repeat: no-repeat;\n",
       "    background-size: 14px 14px;\n",
       "    background-position: 0;\n",
       "    display: inline-block;\n",
       "    width: 14px;\n",
       "    height: 14px;\n",
       "    cursor: pointer;\n",
       "}\n",
       "</style><body><div id=\"sk-container-id-2\" class=\"sk-top-container\"><div class=\"sk-text-repr-fallback\"><pre>RandomForestRegressor(random_state=42)</pre><b>In a Jupyter environment, please rerun this cell to show the HTML representation or trust the notebook. <br />On GitHub, the HTML representation is unable to render, please try loading this page with nbviewer.org.</b></div><div class=\"sk-container\" hidden><div class=\"sk-item\"><div class=\"sk-estimator fitted sk-toggleable\"><input class=\"sk-toggleable__control sk-hidden--visually\" id=\"sk-estimator-id-2\" type=\"checkbox\" checked><label for=\"sk-estimator-id-2\" class=\"sk-toggleable__label fitted sk-toggleable__label-arrow\"><div><div>RandomForestRegressor</div></div><div><a class=\"sk-estimator-doc-link fitted\" rel=\"noreferrer\" target=\"_blank\" href=\"https://scikit-learn.org/1.7/modules/generated/sklearn.ensemble.RandomForestRegressor.html\">?<span>Documentation for RandomForestRegressor</span></a><span class=\"sk-estimator-doc-link fitted\">i<span>Fitted</span></span></div></label><div class=\"sk-toggleable__content fitted\" data-param-prefix=\"\">\n",
       "        <div class=\"estimator-table\">\n",
       "            <details>\n",
       "                <summary>Parameters</summary>\n",
       "                <table class=\"parameters-table\">\n",
       "                  <tbody>\n",
       "                    \n",
       "        <tr class=\"default\">\n",
       "            <td><i class=\"copy-paste-icon\"\n",
       "                 onclick=\"copyToClipboard('n_estimators',\n",
       "                          this.parentElement.nextElementSibling)\"\n",
       "            ></i></td>\n",
       "            <td class=\"param\">n_estimators&nbsp;</td>\n",
       "            <td class=\"value\">100</td>\n",
       "        </tr>\n",
       "    \n",
       "\n",
       "        <tr class=\"default\">\n",
       "            <td><i class=\"copy-paste-icon\"\n",
       "                 onclick=\"copyToClipboard('criterion',\n",
       "                          this.parentElement.nextElementSibling)\"\n",
       "            ></i></td>\n",
       "            <td class=\"param\">criterion&nbsp;</td>\n",
       "            <td class=\"value\">&#x27;squared_error&#x27;</td>\n",
       "        </tr>\n",
       "    \n",
       "\n",
       "        <tr class=\"default\">\n",
       "            <td><i class=\"copy-paste-icon\"\n",
       "                 onclick=\"copyToClipboard('max_depth',\n",
       "                          this.parentElement.nextElementSibling)\"\n",
       "            ></i></td>\n",
       "            <td class=\"param\">max_depth&nbsp;</td>\n",
       "            <td class=\"value\">None</td>\n",
       "        </tr>\n",
       "    \n",
       "\n",
       "        <tr class=\"default\">\n",
       "            <td><i class=\"copy-paste-icon\"\n",
       "                 onclick=\"copyToClipboard('min_samples_split',\n",
       "                          this.parentElement.nextElementSibling)\"\n",
       "            ></i></td>\n",
       "            <td class=\"param\">min_samples_split&nbsp;</td>\n",
       "            <td class=\"value\">2</td>\n",
       "        </tr>\n",
       "    \n",
       "\n",
       "        <tr class=\"default\">\n",
       "            <td><i class=\"copy-paste-icon\"\n",
       "                 onclick=\"copyToClipboard('min_samples_leaf',\n",
       "                          this.parentElement.nextElementSibling)\"\n",
       "            ></i></td>\n",
       "            <td class=\"param\">min_samples_leaf&nbsp;</td>\n",
       "            <td class=\"value\">1</td>\n",
       "        </tr>\n",
       "    \n",
       "\n",
       "        <tr class=\"default\">\n",
       "            <td><i class=\"copy-paste-icon\"\n",
       "                 onclick=\"copyToClipboard('min_weight_fraction_leaf',\n",
       "                          this.parentElement.nextElementSibling)\"\n",
       "            ></i></td>\n",
       "            <td class=\"param\">min_weight_fraction_leaf&nbsp;</td>\n",
       "            <td class=\"value\">0.0</td>\n",
       "        </tr>\n",
       "    \n",
       "\n",
       "        <tr class=\"default\">\n",
       "            <td><i class=\"copy-paste-icon\"\n",
       "                 onclick=\"copyToClipboard('max_features',\n",
       "                          this.parentElement.nextElementSibling)\"\n",
       "            ></i></td>\n",
       "            <td class=\"param\">max_features&nbsp;</td>\n",
       "            <td class=\"value\">1.0</td>\n",
       "        </tr>\n",
       "    \n",
       "\n",
       "        <tr class=\"default\">\n",
       "            <td><i class=\"copy-paste-icon\"\n",
       "                 onclick=\"copyToClipboard('max_leaf_nodes',\n",
       "                          this.parentElement.nextElementSibling)\"\n",
       "            ></i></td>\n",
       "            <td class=\"param\">max_leaf_nodes&nbsp;</td>\n",
       "            <td class=\"value\">None</td>\n",
       "        </tr>\n",
       "    \n",
       "\n",
       "        <tr class=\"default\">\n",
       "            <td><i class=\"copy-paste-icon\"\n",
       "                 onclick=\"copyToClipboard('min_impurity_decrease',\n",
       "                          this.parentElement.nextElementSibling)\"\n",
       "            ></i></td>\n",
       "            <td class=\"param\">min_impurity_decrease&nbsp;</td>\n",
       "            <td class=\"value\">0.0</td>\n",
       "        </tr>\n",
       "    \n",
       "\n",
       "        <tr class=\"default\">\n",
       "            <td><i class=\"copy-paste-icon\"\n",
       "                 onclick=\"copyToClipboard('bootstrap',\n",
       "                          this.parentElement.nextElementSibling)\"\n",
       "            ></i></td>\n",
       "            <td class=\"param\">bootstrap&nbsp;</td>\n",
       "            <td class=\"value\">True</td>\n",
       "        </tr>\n",
       "    \n",
       "\n",
       "        <tr class=\"default\">\n",
       "            <td><i class=\"copy-paste-icon\"\n",
       "                 onclick=\"copyToClipboard('oob_score',\n",
       "                          this.parentElement.nextElementSibling)\"\n",
       "            ></i></td>\n",
       "            <td class=\"param\">oob_score&nbsp;</td>\n",
       "            <td class=\"value\">False</td>\n",
       "        </tr>\n",
       "    \n",
       "\n",
       "        <tr class=\"default\">\n",
       "            <td><i class=\"copy-paste-icon\"\n",
       "                 onclick=\"copyToClipboard('n_jobs',\n",
       "                          this.parentElement.nextElementSibling)\"\n",
       "            ></i></td>\n",
       "            <td class=\"param\">n_jobs&nbsp;</td>\n",
       "            <td class=\"value\">None</td>\n",
       "        </tr>\n",
       "    \n",
       "\n",
       "        <tr class=\"user-set\">\n",
       "            <td><i class=\"copy-paste-icon\"\n",
       "                 onclick=\"copyToClipboard('random_state',\n",
       "                          this.parentElement.nextElementSibling)\"\n",
       "            ></i></td>\n",
       "            <td class=\"param\">random_state&nbsp;</td>\n",
       "            <td class=\"value\">42</td>\n",
       "        </tr>\n",
       "    \n",
       "\n",
       "        <tr class=\"default\">\n",
       "            <td><i class=\"copy-paste-icon\"\n",
       "                 onclick=\"copyToClipboard('verbose',\n",
       "                          this.parentElement.nextElementSibling)\"\n",
       "            ></i></td>\n",
       "            <td class=\"param\">verbose&nbsp;</td>\n",
       "            <td class=\"value\">0</td>\n",
       "        </tr>\n",
       "    \n",
       "\n",
       "        <tr class=\"default\">\n",
       "            <td><i class=\"copy-paste-icon\"\n",
       "                 onclick=\"copyToClipboard('warm_start',\n",
       "                          this.parentElement.nextElementSibling)\"\n",
       "            ></i></td>\n",
       "            <td class=\"param\">warm_start&nbsp;</td>\n",
       "            <td class=\"value\">False</td>\n",
       "        </tr>\n",
       "    \n",
       "\n",
       "        <tr class=\"default\">\n",
       "            <td><i class=\"copy-paste-icon\"\n",
       "                 onclick=\"copyToClipboard('ccp_alpha',\n",
       "                          this.parentElement.nextElementSibling)\"\n",
       "            ></i></td>\n",
       "            <td class=\"param\">ccp_alpha&nbsp;</td>\n",
       "            <td class=\"value\">0.0</td>\n",
       "        </tr>\n",
       "    \n",
       "\n",
       "        <tr class=\"default\">\n",
       "            <td><i class=\"copy-paste-icon\"\n",
       "                 onclick=\"copyToClipboard('max_samples',\n",
       "                          this.parentElement.nextElementSibling)\"\n",
       "            ></i></td>\n",
       "            <td class=\"param\">max_samples&nbsp;</td>\n",
       "            <td class=\"value\">None</td>\n",
       "        </tr>\n",
       "    \n",
       "\n",
       "        <tr class=\"default\">\n",
       "            <td><i class=\"copy-paste-icon\"\n",
       "                 onclick=\"copyToClipboard('monotonic_cst',\n",
       "                          this.parentElement.nextElementSibling)\"\n",
       "            ></i></td>\n",
       "            <td class=\"param\">monotonic_cst&nbsp;</td>\n",
       "            <td class=\"value\">None</td>\n",
       "        </tr>\n",
       "    \n",
       "                  </tbody>\n",
       "                </table>\n",
       "            </details>\n",
       "        </div>\n",
       "    </div></div></div></div></div><script>function copyToClipboard(text, element) {\n",
       "    // Get the parameter prefix from the closest toggleable content\n",
       "    const toggleableContent = element.closest('.sk-toggleable__content');\n",
       "    const paramPrefix = toggleableContent ? toggleableContent.dataset.paramPrefix : '';\n",
       "    const fullParamName = paramPrefix ? `${paramPrefix}${text}` : text;\n",
       "\n",
       "    const originalStyle = element.style;\n",
       "    const computedStyle = window.getComputedStyle(element);\n",
       "    const originalWidth = computedStyle.width;\n",
       "    const originalHTML = element.innerHTML.replace('Copied!', '');\n",
       "\n",
       "    navigator.clipboard.writeText(fullParamName)\n",
       "        .then(() => {\n",
       "            element.style.width = originalWidth;\n",
       "            element.style.color = 'green';\n",
       "            element.innerHTML = \"Copied!\";\n",
       "\n",
       "            setTimeout(() => {\n",
       "                element.innerHTML = originalHTML;\n",
       "                element.style = originalStyle;\n",
       "            }, 2000);\n",
       "        })\n",
       "        .catch(err => {\n",
       "            console.error('Failed to copy:', err);\n",
       "            element.style.color = 'red';\n",
       "            element.innerHTML = \"Failed!\";\n",
       "            setTimeout(() => {\n",
       "                element.innerHTML = originalHTML;\n",
       "                element.style = originalStyle;\n",
       "            }, 2000);\n",
       "        });\n",
       "    return false;\n",
       "}\n",
       "\n",
       "document.querySelectorAll('.fa-regular.fa-copy').forEach(function(element) {\n",
       "    const toggleableContent = element.closest('.sk-toggleable__content');\n",
       "    const paramPrefix = toggleableContent ? toggleableContent.dataset.paramPrefix : '';\n",
       "    const paramName = element.parentElement.nextElementSibling.textContent.trim();\n",
       "    const fullParamName = paramPrefix ? `${paramPrefix}${paramName}` : paramName;\n",
       "\n",
       "    element.setAttribute('title', fullParamName);\n",
       "});\n",
       "</script></body>"
      ],
      "text/plain": [
       "RandomForestRegressor(random_state=42)"
      ]
     },
     "execution_count": 79,
     "metadata": {},
     "output_type": "execute_result"
    }
   ],
   "source": [
    "x_train, x_test, y_train, y_test = train_test_split(x, y_log, test_size=0.2, random_state=42)\n",
    "\n",
    "model = RandomForestRegressor(random_state=42)\n",
    "model.fit(x_train, y_train)\n"
   ]
  },
  {
   "cell_type": "code",
   "execution_count": 80,
   "id": "26162239-188d-48ba-be6c-24222c9be942",
   "metadata": {},
   "outputs": [
    {
     "name": "stdout",
     "output_type": "stream",
     "text": [
      "MAE: 7361.896913528628\n",
      "RMSE: 12991.326289361228\n",
      "R2: 0.4583556084882392\n"
     ]
    }
   ],
   "source": [
    "from sklearn.metrics import mean_absolute_error, mean_squared_error, r2_score\n",
    "\n",
    "y_pred_log = model.predict(x_test)\n",
    "y_pred = np.expm1(y_pred_log)  # reverse log transform\n",
    "y_test_actual = np.expm1(y_test)\n",
    "\n",
    "mae = mean_absolute_error(y_test_actual, y_pred)\n",
    "mse = mean_squared_error(y_test_actual, y_pred)\n",
    "rmse = np.sqrt(mse)\n",
    "r2 = r2_score(y_test_actual, y_pred)\n",
    "\n",
    "print(\"MAE:\", mae)\n",
    "print(\"RMSE:\", rmse)\n",
    "print(\"R2:\", r2)\n"
   ]
  },
  {
   "cell_type": "code",
   "execution_count": 81,
   "id": "ffe2388d-0db2-45d4-9893-267d07e86270",
   "metadata": {},
   "outputs": [
    {
     "data": {
      "image/png": "[encoded data removed]",
      "text/plain": [
       "<Figure size 640x480 with 1 Axes>"
      ]
     },
     "metadata": {},
     "output_type": "display_data"
    }
   ],
   "source": [
    "import matplotlib.pyplot as plt\n",
    "\n",
    "residuals = y_test_actual - y_pred\n",
    "plt.scatter(y_test_actual, residuals, alpha=0.5)\n",
    "plt.axhline(0, color='red', linestyle='--')\n",
    "plt.xlabel(\"Actual Price\")\n",
    "plt.ylabel(\"Residuals\")\n",
    "plt.title(\"Residual Plot\")\n",
    "plt.show()\n"
   ]
  },
  {
   "cell_type": "code",
   "execution_count": 82,
   "id": "ae701981-e6e1-47af-886e-68c22079ea6b",
   "metadata": {},
   "outputs": [
    {
     "data": {
      "image/png": "[encoded data removed]",
      "text/plain": [
       "<Figure size 1200x500 with 2 Axes>"
      ]
     },
     "metadata": {},
     "output_type": "display_data"
    }
   ],
   "source": [
    "fig, axes = plt.subplots(1, 2, figsize=(12,5))\n",
    "\n",
    "axes[0].hist(y, bins=50)\n",
    "axes[0].set_title(\"Original Price Distribution\")\n",
    "\n",
    "axes[1].hist(np.log1p(y), bins=50)\n",
    "axes[1].set_title(\"Log-Transformed Price Distribution\")\n",
    "\n",
    "plt.show()\n"
   ]
  },
  {
   "cell_type": "code",
   "execution_count": 83,
   "id": "d7423e93-7af0-4e87-b055-9c19bcdb6a1d",
   "metadata": {},
   "outputs": [
    {
     "name": "stdout",
     "output_type": "stream",
     "text": [
      "XGBoost Results\n",
      "MAE: 7516.860945100844\n",
      "RMSE: 13909.963071798498\n",
      "R2: 0.3790462940165248\n"
     ]
    }
   ],
   "source": [
    "import xgboost as xgb\n",
    "from sklearn.metrics import mean_absolute_error, mean_squared_error, r2_score\n",
    "import numpy as np\n",
    "\n",
    "# Train on log-transformed target\n",
    "xgb_model = xgb.XGBRegressor(\n",
    "    n_estimators=500,\n",
    "    learning_rate=0.05,\n",
    "    max_depth=6,\n",
    "    subsample=0.8,\n",
    "    colsample_bytree=0.8,\n",
    "    random_state=42,\n",
    "    n_jobs=-1\n",
    ")\n",
    "\n",
    "xgb_model.fit(x_train, y_train)\n",
    "\n",
    "# Predictions\n",
    "y_pred_log = xgb_model.predict(x_test)\n",
    "\n",
    "# Convert back from log\n",
    "y_pred = np.expm1(y_pred_log)\n",
    "y_test_actual = np.expm1(y_test)\n",
    "\n",
    "# Metrics\n",
    "mae = mean_absolute_error(y_test_actual, y_pred)\n",
    "rmse = np.sqrt(mean_squared_error(y_test_actual, y_pred))\n",
    "r2 = r2_score(y_test_actual, y_pred)\n",
    "\n",
    "print(\"XGBoost Results\")\n",
    "print(\"MAE:\", mae)\n",
    "print(\"RMSE:\", rmse)\n",
    "print(\"R2:\", r2)\n"
   ]
  },
  {
   "cell_type": "code",
   "execution_count": 84,
   "id": "dd52cbbc-8e11-46d0-a681-1f5be0cb514c",
   "metadata": {},
   "outputs": [
    {
     "name": "stdout",
     "output_type": "stream",
     "text": [
      "Fitting 3 folds for each of 25 candidates, totalling 75 fits\n",
      "Best Parameters: {'subsample': 0.9, 'n_estimators': 1000, 'min_child_weight': 3, 'max_depth': 6, 'learning_rate': 0.01, 'colsample_bytree': 1.0}\n",
      "Tuned XGBoost Results\n",
      "MAE: 7404.510238239027\n",
      "RMSE: 13122.912351175148\n",
      "R2: 0.44732766512151767\n"
     ]
    }
   ],
   "source": [
    "import xgboost as xgb\n",
    "from sklearn.model_selection import RandomizedSearchCV\n",
    "from sklearn.metrics import mean_absolute_error, mean_squared_error, r2_score\n",
    "import numpy as np\n",
    "\n",
    "# Define model\n",
    "xgb_model = xgb.XGBRegressor(\n",
    "    objective=\"reg:squarederror\",\n",
    "    random_state=42,\n",
    "    n_jobs=-1\n",
    ")\n",
    "\n",
    "# Hyperparameter grid\n",
    "param_dist = {\n",
    "    \"n_estimators\": [200, 400, 600, 800, 1000],\n",
    "    \"max_depth\": [3, 4, 5, 6, 7, 8, 10],\n",
    "    \"learning_rate\": [0.01, 0.05, 0.1, 0.2],\n",
    "    \"subsample\": [0.6, 0.7, 0.8, 0.9, 1.0],\n",
    "    \"colsample_bytree\": [0.6, 0.7, 0.8, 0.9, 1.0],\n",
    "    \"min_child_weight\": [1, 3, 5, 7, 10]\n",
    "}\n",
    "\n",
    "# Randomized search\n",
    "random_search = RandomizedSearchCV(\n",
    "    estimator=xgb_model,\n",
    "    param_distributions=param_dist,\n",
    "    n_iter=25,              # try 25 random combos\n",
    "    scoring=\"neg_mean_squared_error\",\n",
    "    cv=3,                   # 3-fold CV\n",
    "    verbose=2,\n",
    "    random_state=42,\n",
    "    n_jobs=-1\n",
    ")\n",
    "\n",
    "# Fit on training data\n",
    "random_search.fit(x_train, y_train)\n",
    "\n",
    "print(\"Best Parameters:\", random_search.best_params_)\n",
    "\n",
    "# Evaluate on test set\n",
    "best_model = random_search.best_estimator_\n",
    "y_pred_log = best_model.predict(x_test)\n",
    "\n",
    "# Convert back from log\n",
    "y_pred = np.expm1(y_pred_log)\n",
    "y_test_actual = np.expm1(y_test)\n",
    "\n",
    "mae = mean_absolute_error(y_test_actual, y_pred)\n",
    "rmse = np.sqrt(mean_squared_error(y_test_actual, y_pred))\n",
    "r2 = r2_score(y_test_actual, y_pred)\n",
    "\n",
    "print(\"Tuned XGBoost Results\")\n",
    "print(\"MAE:\", mae)\n",
    "print(\"RMSE:\", rmse)\n",
    "print(\"R2:\", r2)\n"
   ]
  },
  {
   "cell_type": "code",
   "execution_count": 85,
   "id": "8026d769-7a24-4713-95f8-042d47b71494",
   "metadata": {},
   "outputs": [
    {
     "name": "stdout",
     "output_type": "stream",
     "text": [
      "0:\tlearn: 1.5638474\ttest: 1.5318610\tbest: 1.5318610 (0)\ttotal: 149ms\tremaining: 2m 28s\n",
      "200:\tlearn: 1.1691675\ttest: 1.1820794\tbest: 1.1820794 (200)\ttotal: 912ms\tremaining: 3.63s\n",
      "400:\tlearn: 1.1415578\ttest: 1.1736857\tbest: 1.1735465 (399)\ttotal: 1.72s\tremaining: 2.56s\n",
      "600:\tlearn: 1.1262491\ttest: 1.1716367\tbest: 1.1714028 (574)\ttotal: 2.51s\tremaining: 1.67s\n",
      "800:\tlearn: 1.1153431\ttest: 1.1729481\tbest: 1.1714028 (574)\ttotal: 3.29s\tremaining: 818ms\n",
      "999:\tlearn: 1.1060089\ttest: 1.1741644\tbest: 1.1714028 (574)\ttotal: 4.08s\tremaining: 0us\n",
      "\n",
      "bestTest = 1.171402809\n",
      "bestIteration = 574\n",
      "\n",
      "Shrink model to first 575 iterations.\n",
      "CatBoost Results\n",
      "MAE: 7416.149322845884\n",
      "RMSE: 13304.417135275642\n",
      "R2: 0.43193376638586056\n"
     ]
    }
   ],
   "source": [
    "from catboost import CatBoostRegressor\n",
    "from sklearn.metrics import mean_absolute_error, mean_squared_error, r2_score\n",
    "import numpy as np\n",
    "\n",
    "# Tell CatBoost which columns are categorical (use indices of categorical features)\n",
    "# Example: if your categorical columns are [0, 2, 5] in x_train\n",
    "categorical_features = [col for col in x_train.columns if x_train[col].dtype == \"object\"]\n",
    "\n",
    "cat_model = CatBoostRegressor(\n",
    "    iterations=1000,         # number of trees\n",
    "    learning_rate=0.05,      # smaller LR for smoother learning\n",
    "    depth=8,                 # tree depth\n",
    "    loss_function=\"RMSE\",\n",
    "    eval_metric=\"RMSE\",\n",
    "    random_seed=42,\n",
    "    verbose=200\n",
    ")\n",
    "\n",
    "# Fit model (CatBoost can take cat features directly)\n",
    "cat_model.fit(x_train, y_train, cat_features=categorical_features, eval_set=(x_test, y_test), use_best_model=True)\n",
    "\n",
    "# Predictions\n",
    "y_pred_log = cat_model.predict(x_test)\n",
    "\n",
    "# Convert back from log\n",
    "y_pred = np.expm1(y_pred_log)\n",
    "y_test_actual = np.expm1(y_test)\n",
    "\n",
    "# Evaluation\n",
    "mae = mean_absolute_error(y_test_actual, y_pred)\n",
    "rmse = np.sqrt(mean_squared_error(y_test_actual, y_pred))\n",
    "r2 = r2_score(y_test_actual, y_pred)\n",
    "\n",
    "print(\"CatBoost Results\")\n",
    "print(\"MAE:\", mae)\n",
    "print(\"RMSE:\", rmse)\n",
    "print(\"R2:\", r2)\n"
   ]
  },
  {
   "cell_type": "code",
   "execution_count": 86,
   "id": "06063e5c-5e43-4c87-a7f9-c4fca555ca1b",
   "metadata": {},
   "outputs": [
    {
     "name": "stdout",
     "output_type": "stream",
     "text": [
      "Fitting 3 folds for each of 20 candidates, totalling 60 fits\n",
      "Best Parameters: {'subsample': 0.9, 'learning_rate': 0.03, 'l2_leaf_reg': 10, 'iterations': 1000, 'depth': 10, 'colsample_bylevel': 0.9}\n",
      "CatBoost Tuned Results\n",
      "MAE: 7334.2729587463655\n",
      "RMSE: 13044.605596554979\n",
      "R2: 0.4539037744577564\n"
     ]
    }
   ],
   "source": [
    "from catboost import CatBoostRegressor\n",
    "from sklearn.model_selection import RandomizedSearchCV\n",
    "\n",
    "# Base model\n",
    "cat_model = CatBoostRegressor(\n",
    "    verbose=0, \n",
    "    random_state=42, \n",
    "    early_stopping_rounds=100\n",
    ")\n",
    "\n",
    "# Parameter space for tuning\n",
    "param_dist = {\n",
    "    \"depth\": [6, 8, 10],\n",
    "    \"learning_rate\": [0.01, 0.03, 0.05, 0.1],\n",
    "    \"iterations\": [500, 1000, 1500],\n",
    "    \"l2_leaf_reg\": [3, 5, 10, 15],\n",
    "    \"subsample\": [0.7, 0.8, 0.9, 1.0],\n",
    "    \"colsample_bylevel\": [0.7, 0.8, 0.9, 1.0]\n",
    "}\n",
    "\n",
    "# RandomizedSearchCV\n",
    "random_search = RandomizedSearchCV(\n",
    "    estimator=cat_model,\n",
    "    param_distributions=param_dist,\n",
    "    n_iter=20,           # number of random samples\n",
    "    scoring=\"r2\",        # optimize for R2\n",
    "    cv=3,\n",
    "    verbose=2,\n",
    "    random_state=42,\n",
    "    n_jobs=-1\n",
    ")\n",
    "\n",
    "# Fit\n",
    "random_search.fit(X_train, y_train, eval_set=(X_test, y_test))\n",
    "\n",
    "print(\"Best Parameters:\", random_search.best_params_)\n",
    "\n",
    "# Evaluate best model\n",
    "best_cat = random_search.best_estimator_\n",
    "y_pred_log = best_cat.predict(X_test)\n",
    "y_pred = np.expm1(y_pred_log)\n",
    "y_test_actual = np.expm1(y_test)\n",
    "\n",
    "mae = mean_absolute_error(y_test_actual, y_pred)\n",
    "rmse = np.sqrt(mean_squared_error(y_test_actual, y_pred))\n",
    "r2 = r2_score(y_test_actual, y_pred)\n",
    "\n",
    "print(\"CatBoost Tuned Results\")\n",
    "print(\"MAE:\", mae)\n",
    "print(\"RMSE:\", rmse)\n",
    "print(\"R2:\", r2)\n"
   ]
  },
  {
   "cell_type": "code",
   "execution_count": 87,
   "id": "22c86a2f-988c-4f1e-b572-afe08092d6c5",
   "metadata": {},
   "outputs": [
    {
     "name": "stderr",
     "output_type": "stream",
     "text": [
      "C:\\Users\\Asus\\AppData\\Local\\Temp\\ipykernel_3352\\1525570980.py:16: FutureWarning:\n",
      "\n",
      "\n",
      "\n",
      "Passing `palette` without assigning `hue` is deprecated and will be removed in v0.14.0. Assign the `y` variable to `hue` and set `legend=False` for the same effect.\n",
      "\n",
      "\n"
     ]
    },
    {
     "data": {
      "image/png": "[encoded data removed]",
      "text/plain": [
       "<Figure size 1000x600 with 1 Axes>"
      ]
     },
     "metadata": {},
     "output_type": "display_data"
    }
   ],
   "source": [
    "from catboost import Pool\n",
    "import seaborn as sns\n",
    "\n",
    "# Use the trained/tuned CatBoost model\n",
    "train_pool = Pool(X_train, y_train)\n",
    "\n",
    "feature_importances = random_search.best_estimator_.get_feature_importance(train_pool)\n",
    "\n",
    "importances_df = pd.DataFrame({\n",
    "    \"Feature\": X_train.columns,\n",
    "    \"Importance\": feature_importances\n",
    "}).sort_values(by=\"Importance\", ascending=False)\n",
    "\n",
    "# Plot top 20\n",
    "plt.figure(figsize=(10, 6))\n",
    "sns.barplot(x=\"Importance\", y=\"Feature\", data=importances_df.head(20), palette=\"viridis\")\n",
    "plt.title(\"Top 20 Feature Importances (CatBoost Tuned)\", fontsize=14)\n",
    "plt.show()\n"
   ]
  },
  {
   "cell_type": "code",
   "execution_count": 88,
   "id": "ab19cb07",
   "metadata": {},
   "outputs": [
    {
     "name": "stdout",
     "output_type": "stream",
     "text": [
      "0.38588005235515366\n",
      "0.3663955832347\n",
      "0.301947580222913\n"
     ]
    }
   ],
   "source": [
    "from sklearn.ensemble import RandomForestRegressor\n",
    "from sklearn.ensemble import ExtraTreesRegressor\n",
    "from sklearn.tree import DecisionTreeRegressor\n",
    "from sklearn.model_selection import cross_val_score\n",
    "rfr = RandomForestRegressor(n_estimators=500, max_depth=None, random_state=0, n_jobs=-1)\n",
    "rfr_scores = cross_val_score(rfr, X_train, y_train, cv=5)\n",
    "print(rfr_scores.mean())\n",
    "etr = ExtraTreesRegressor(n_estimators=500, max_depth=None, random_state=0, n_jobs=-1)\n",
    "etr_scores = cross_val_score(etr, X_train, y_train,cv=5)\n",
    "print(etr_scores.mean())\n",
    "dtr = DecisionTreeRegressor( max_depth=None, max_leaf_nodes=None,min_samples_split=2,random_state=0)\n",
    "dtr_Scores = cross_val_score(dtr,X_train, y_train)\n",
    "print(dtr_Scores.mean())"
   ]
  },
  {
   "cell_type": "code",
   "execution_count": 89,
   "id": "2fe93f68",
   "metadata": {},
   "outputs": [
    {
     "name": "stdout",
     "output_type": "stream",
     "text": [
      "Voting Regressor R²: 0.4009281301685405\n"
     ]
    }
   ],
   "source": [
    "from sklearn.ensemble import VotingRegressor\n",
    "from catboost import CatBoostRegressor\n",
    "\n",
    "# Define base models\n",
    "cat = CatBoostRegressor(\n",
    "    iterations=1000, learning_rate=0.03, depth=10,\n",
    "    subsample=0.9, colsample_bylevel=0.9, l2_leaf_reg=10,\n",
    "    random_seed=0, verbose=0\n",
    ")\n",
    "\n",
    "rfr = RandomForestRegressor(n_estimators=500, random_state=0, n_jobs=-1)\n",
    "etr = ExtraTreesRegressor(n_estimators=500, random_state=0, n_jobs=-1)\n",
    "dtr = DecisionTreeRegressor(random_state=0)\n",
    "\n",
    "# Create ensemble\n",
    "voting_reg = VotingRegressor([\n",
    "    ('cat', cat),\n",
    "    ('rf', rfr),\n",
    "    ('et', etr),\n",
    "    ('dt', dtr)\n",
    "])\n",
    "\n",
    "# Evaluate with cross-validation\n",
    "from sklearn.model_selection import cross_val_score\n",
    "import numpy as np\n",
    "\n",
    "scores = cross_val_score(voting_reg, X_train, y_train, cv=5, scoring=\"r2\")\n",
    "print(\"Voting Regressor R²:\", np.mean(scores))\n"
   ]
  },
  {
   "cell_type": "code",
   "execution_count": 94,
   "id": "2102b42d",
   "metadata": {},
   "outputs": [
    {
     "name": "stdout",
     "output_type": "stream",
     "text": [
      "(15389, 12) (15389,)\n"
     ]
    }
   ],
   "source": [
    "print(x_train.shape, y_train.shape)"
   ]
  },
  {
   "cell_type": "code",
   "execution_count": 91,
   "id": "e128c6c4",
   "metadata": {},
   "outputs": [],
   "source": [
    "# from sklearn.ensemble import StackingRegressor\n",
    "# from sklearn.linear_model import LinearRegression\n",
    "\n",
    "# stacking_reg = StackingRegressor(\n",
    "#     estimators=[\n",
    "#         ('cat', cat),\n",
    "#         ('rf', rfr),\n",
    "#         ('et', etr),\n",
    "#         ('dt', dtr)\n",
    "#     ],\n",
    "#     final_estimator=LinearRegression(),   # meta-model\n",
    "#     n_jobs=-1\n",
    "# )\n",
    "\n",
    "# scores = cross_val_score(stacking_reg, X_train, y_train, cv=5, scoring=\"r2\")\n",
    "# print(\"Stacking Regressor R²:\", np.mean(scores))\n"
   ]
  },
  {
   "cell_type": "code",
   "execution_count": 99,
   "id": "352c28c8",
   "metadata": {},
   "outputs": [
    {
     "name": "stdout",
     "output_type": "stream",
     "text": [
      "\n",
      "🔎 Individual Model Performance (mean ± std):\n",
      "\n",
      "📌 CatBoost\n",
      "   MAE: 0.7836 ± 0.0068\n",
      "   RMSE: nan ± nan\n",
      "   R2: 0.4280 ± 0.0089\n",
      "\n",
      "📌 LightGBM\n",
      "   MAE: 0.7800 ± 0.0079\n",
      "   RMSE: nan ± nan\n",
      "   R2: 0.4259 ± 0.0103\n",
      "\n",
      "📌 XGBoost\n",
      "   MAE: 0.7711 ± 0.0106\n",
      "   RMSE: nan ± nan\n",
      "   R2: 0.4304 ± 0.0160\n",
      "\n",
      "🤖 Stacking Ensemble Performance:\n",
      "   MAE: 0.7709 ± 0.0075\n",
      "   RMSE: nan ± nan\n",
      "   R2: 0.4367 ± 0.0113\n"
     ]
    }
   ],
   "source": [
    "# 📦 Imports\n",
    "import numpy as np\n",
    "import pandas as pd\n",
    "from sklearn.model_selection import cross_val_score, KFold\n",
    "from sklearn.metrics import make_scorer, mean_absolute_error, mean_squared_error, r2_score\n",
    "\n",
    "from catboost import CatBoostRegressor\n",
    "from lightgbm import LGBMRegressor\n",
    "from xgboost import XGBRegressor\n",
    "\n",
    "from sklearn.ensemble import StackingRegressor\n",
    "from sklearn.linear_model import LinearRegression\n",
    "\n",
    "# =====================\n",
    "# 1. Define Models\n",
    "# =====================\n",
    "cat = CatBoostRegressor(\n",
    "    iterations=300, learning_rate=0.03, depth=10,\n",
    "    subsample=0.9, colsample_bylevel=0.9, l2_leaf_reg=10,\n",
    "    random_seed=0, verbose=0\n",
    ")\n",
    "\n",
    "lgbm = LGBMRegressor(\n",
    "    n_estimators=300, learning_rate=0.03, max_depth=10,\n",
    "    subsample=0.9, colsample_bytree=0.9, reg_lambda=10,\n",
    "    random_state=0, n_jobs=4, verbose=-1\n",
    ")\n",
    "\n",
    "xgb = XGBRegressor(\n",
    "    n_estimators=300, learning_rate=0.03, max_depth=10,\n",
    "    subsample=0.9, colsample_bytree=0.9, reg_lambda=10,\n",
    "    random_state=0, n_jobs=4, verbosity=0\n",
    ")\n",
    "\n",
    "# =====================\n",
    "# 2. Define Metrics\n",
    "# =====================\n",
    "def rmse(y_true, y_pred, **kwargs):\n",
    "    return mean_squared_error(y_true, y_pred, squared=False)\n",
    "\n",
    "scoring = {\n",
    "    \"MAE\": make_scorer(mean_absolute_error, greater_is_better=False),\n",
    "    \"RMSE\": make_scorer(rmse, greater_is_better=False),\n",
    "    \"R2\": make_scorer(r2_score)\n",
    "}\n",
    "\n",
    "cv = KFold(n_splits=3, shuffle=True, random_state=42)  # use 3 folds for speed while testing\n",
    "\n",
    "# =====================\n",
    "# 3. Evaluate Each Model\n",
    "# =====================\n",
    "models = {\"CatBoost\": cat, \"LightGBM\": lgbm, \"XGBoost\": xgb}\n",
    "\n",
    "results = {}\n",
    "for name, model in models.items():\n",
    "    scores = {metric: cross_val_score(model, X_train, y_train, cv=cv, scoring=sc) \n",
    "              for metric, sc in scoring.items()}\n",
    "    results[name] = {\n",
    "        m: f\"{np.mean(s) * (-1 if m in ['MAE','RMSE'] else 1):.4f} ± {np.std(s):.4f}\"\n",
    "        for m, s in scores.items()\n",
    "    }\n",
    "\n",
    "print(\"\\n🔎 Individual Model Performance (mean ± std):\")\n",
    "for model, metrics in results.items():\n",
    "    print(f\"\\n📌 {model}\")\n",
    "    for metric, value in metrics.items():\n",
    "        print(f\"   {metric}: {value}\")\n",
    "\n",
    "# =====================\n",
    "# 4. Stacking Ensemble\n",
    "# =====================\n",
    "stacking_reg = StackingRegressor(\n",
    "    estimators=[(\"cat\", cat), (\"lgbm\", lgbm), (\"xgb\", xgb)],\n",
    "    final_estimator=LinearRegression(),\n",
    "    n_jobs=-1\n",
    ")\n",
    "\n",
    "scores = {metric: cross_val_score(stacking_reg, X_train, y_train, cv=cv, scoring=sc) \n",
    "          for metric, sc in scoring.items()}\n",
    "stacking_results = {\n",
    "    m: f\"{np.mean(s) * (-1 if m in ['MAE','RMSE'] else 1):.4f} ± {np.std(s):.4f}\"\n",
    "    for m, s in scores.items()\n",
    "}\n",
    "\n",
    "print(\"\\n🤖 Stacking Ensemble Performance:\")\n",
    "for metric, value in stacking_results.items():\n",
    "    print(f\"   {metric}: {value}\")\n"
   ]
  },
  {
   "cell_type": "code",
   "execution_count": 101,
   "id": "d9798b0a",
   "metadata": {},
   "outputs": [
    {
     "name": "stdout",
     "output_type": "stream",
     "text": [
      "🔄 Training stacking model on full training data...\n",
      "\n",
      "📊 Test Set Performance:\n",
      "MAE  : 0.7427\n",
      "RMSE : 1.3560\n",
      "R²   : 0.4426\n"
     ]
    }
   ],
   "source": [
    "# 📦 Imports\n",
    "import numpy as np\n",
    "import pandas as pd\n",
    "from sklearn.metrics import mean_absolute_error, mean_squared_error, r2_score\n",
    "\n",
    "# Use your best model (stacking ensemble)\n",
    "from sklearn.ensemble import StackingRegressor\n",
    "from sklearn.linear_model import LinearRegression\n",
    "from catboost import CatBoostRegressor\n",
    "from lightgbm import LGBMRegressor\n",
    "from xgboost import XGBRegressor\n",
    "\n",
    "# =====================\n",
    "# 1. Define base models\n",
    "# =====================\n",
    "cat = CatBoostRegressor(\n",
    "    iterations=300, learning_rate=0.03, depth=10,\n",
    "    subsample=0.9, colsample_bylevel=0.9, l2_leaf_reg=10,\n",
    "    random_seed=0, verbose=0\n",
    ")\n",
    "\n",
    "lgbm = LGBMRegressor(\n",
    "    n_estimators=300, learning_rate=0.03, max_depth=10,\n",
    "    subsample=0.9, colsample_bytree=0.9, reg_lambda=10,\n",
    "    random_state=0, n_jobs=4, verbose=-1\n",
    ")\n",
    "\n",
    "xgb = XGBRegressor(\n",
    "    n_estimators=300, learning_rate=0.03, max_depth=10,\n",
    "    subsample=0.9, colsample_bytree=0.9, reg_lambda=10,\n",
    "    random_state=0, n_jobs=4, verbosity=0\n",
    ")\n",
    "\n",
    "# =====================\n",
    "# 2. Stacking Ensemble\n",
    "# =====================\n",
    "stacking_reg = StackingRegressor(\n",
    "    estimators=[(\"cat\", cat), (\"lgbm\", lgbm), (\"xgb\", xgb)],\n",
    "    final_estimator=LinearRegression(),\n",
    "    n_jobs=-1\n",
    ")\n",
    "\n",
    "# =====================\n",
    "# 3. Train model\n",
    "# =====================\n",
    "print(\"🔄 Training stacking model on full training data...\")\n",
    "stacking_reg.fit(X_train, y_train)\n",
    "\n",
    "# =====================\n",
    "# 4. Make predictions\n",
    "# =====================\n",
    "y_pred = stacking_reg.predict(X_test)\n",
    "\n",
    "# =====================\n",
    "# 5. Evaluate\n",
    "# =====================\n",
    "mae = mean_absolute_error(y_test, y_pred)\n",
    "rmse = mean_squared_error(y_test, y_pred)\n",
    "r2 = r2_score(y_test, y_pred)\n",
    "\n",
    "print(\"\\n📊 Test Set Performance:\")\n",
    "print(f\"MAE  : {mae:.4f}\")\n",
    "print(f\"RMSE : {rmse:.4f}\")\n",
    "print(f\"R²   : {r2:.4f}\")\n"
   ]
  },
  {
   "cell_type": "code",
   "execution_count": 102,
   "id": "17849f7a",
   "metadata": {},
   "outputs": [
    {
     "name": "stdout",
     "output_type": "stream",
     "text": [
      "\n",
      "📊 Test Set Performance:\n",
      "MAE  : 0.7427\n",
      "RMSE : 1.1645\n",
      "R²   : 0.4426\n"
     ]
    },
    {
     "data": {
      "application/vnd.plotly.v1+json": {
       "config": {
        "plotlyServerURL": "https://plot.ly"
       },
       "data": [
        {
         "hovertemplate": "Actual Prices=%{x}<br>Predicted Prices=%{y}<extra></extra>",
         "legendgroup": "",
         "marker": {
          "color": "#636efa",
          "opacity": 0.6,
          "symbol": "circle"
         },
         "mode": "markers",
         "name": "",
         "showlegend": false,
         "type": "scattergl",
         "x": {
          "bdata": "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",
          "dtype": "f8"
         },
         "xaxis": "x",
         "y": {
          "bdata": "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",
          "dtype": "f8"
         },
         "yaxis": "y"
        },
        {
         "line": {
          "color": "red",
          "dash": "dash"
         },
         "mode": "lines",
         "name": "Ideal Fit",
         "type": "scatter",
         "x": [
          1.3862943611198906,
          12.572526618522046
         ],
         "y": [
          1.3862943611198906,
          12.572526618522046
         ]
        }
       ],
       "layout": {
        "legend": {
         "tracegroupgap": 0
        },
        "template": {
         "data": {
          "bar": [
           {
            "error_x": {
             "color": "#2a3f5f"
            },
            "error_y": {
             "color": "#2a3f5f"
            },
            "marker": {
             "line": {
              "color": "#E5ECF6",
              "width": 0.5
             },
             "pattern": {
              "fillmode": "overlay",
              "size": 10,
              "solidity": 0.2
             }
            },
            "type": "bar"
           }
          ],
          "barpolar": [
           {
            "marker": {
             "line": {
              "color": "#E5ECF6",
              "width": 0.5
             },
             "pattern": {
              "fillmode": "overlay",
              "size": 10,
              "solidity": 0.2
             }
            },
            "type": "barpolar"
           }
          ],
          "carpet": [
           {
            "aaxis": {
             "endlinecolor": "#2a3f5f",
             "gridcolor": "white",
             "linecolor": "white",
             "minorgridcolor": "white",
             "startlinecolor": "#2a3f5f"
            },
            "baxis": {
             "endlinecolor": "#2a3f5f",
             "gridcolor": "white",
             "linecolor": "white",
             "minorgridcolor": "white",
             "startlinecolor": "#2a3f5f"
            },
            "type": "carpet"
           }
          ],
          "choropleth": [
           {
            "colorbar": {
             "outlinewidth": 0,
             "ticks": ""
            },
            "type": "choropleth"
           }
          ],
          "contour": [
           {
            "colorbar": {
             "outlinewidth": 0,
             "ticks": ""
            },
            "colorscale": [
             [
              0,
              "#0d0887"
             ],
             [
              0.1111111111111111,
              "#46039f"
             ],
             [
              0.2222222222222222,
              "#7201a8"
             ],
             [
              0.3333333333333333,
              "#9c179e"
             ],
             [
              0.4444444444444444,
              "#bd3786"
             ],
             [
              0.5555555555555556,
              "#d8576b"
             ],
             [
              0.6666666666666666,
              "#ed7953"
             ],
             [
              0.7777777777777778,
              "#fb9f3a"
             ],
             [
              0.8888888888888888,
              "#fdca26"
             ],
             [
              1,
              "#f0f921"
             ]
            ],
            "type": "contour"
           }
          ],
          "contourcarpet": [
           {
            "colorbar": {
             "outlinewidth": 0,
             "ticks": ""
            },
            "type": "contourcarpet"
           }
          ],
          "heatmap": [
           {
            "colorbar": {
             "outlinewidth": 0,
             "ticks": ""
            },
            "colorscale": [
             [
              0,
              "#0d0887"
             ],
             [
              0.1111111111111111,
              "#46039f"
             ],
             [
              0.2222222222222222,
              "#7201a8"
             ],
             [
              0.3333333333333333,
              "#9c179e"
             ],
             [
              0.4444444444444444,
              "#bd3786"
             ],
             [
              0.5555555555555556,
              "#d8576b"
             ],
             [
              0.6666666666666666,
              "#ed7953"
             ],
             [
              0.7777777777777778,
              "#fb9f3a"
             ],
             [
              0.8888888888888888,
              "#fdca26"
             ],
             [
              1,
              "#f0f921"
             ]
            ],
            "type": "heatmap"
           }
          ],
          "histogram": [
           {
            "marker": {
             "pattern": {
              "fillmode": "overlay",
              "size": 10,
              "solidity": 0.2
             }
            },
            "type": "histogram"
           }
          ],
          "histogram2d": [
           {
            "colorbar": {
             "outlinewidth": 0,
             "ticks": ""
            },
            "colorscale": [
             [
              0,
              "#0d0887"
             ],
             [
              0.1111111111111111,
              "#46039f"
             ],
             [
              0.2222222222222222,
              "#7201a8"
             ],
             [
              0.3333333333333333,
              "#9c179e"
             ],
             [
              0.4444444444444444,
              "#bd3786"
             ],
             [
              0.5555555555555556,
              "#d8576b"
             ],
             [
              0.6666666666666666,
              "#ed7953"
             ],
             [
              0.7777777777777778,
              "#fb9f3a"
             ],
             [
              0.8888888888888888,
              "#fdca26"
             ],
             [
              1,
              "#f0f921"
             ]
            ],
            "type": "histogram2d"
           }
          ],
          "histogram2dcontour": [
           {
            "colorbar": {
             "outlinewidth": 0,
             "ticks": ""
            },
            "colorscale": [
             [
              0,
              "#0d0887"
             ],
             [
              0.1111111111111111,
              "#46039f"
             ],
             [
              0.2222222222222222,
              "#7201a8"
             ],
             [
              0.3333333333333333,
              "#9c179e"
             ],
             [
              0.4444444444444444,
              "#bd3786"
             ],
             [
              0.5555555555555556,
              "#d8576b"
             ],
             [
              0.6666666666666666,
              "#ed7953"
             ],
             [
              0.7777777777777778,
              "#fb9f3a"
             ],
             [
              0.8888888888888888,
              "#fdca26"
             ],
             [
              1,
              "#f0f921"
             ]
            ],
            "type": "histogram2dcontour"
           }
          ],
          "mesh3d": [
           {
            "colorbar": {
             "outlinewidth": 0,
             "ticks": ""
            },
            "type": "mesh3d"
           }
          ],
          "parcoords": [
           {
            "line": {
             "colorbar": {
              "outlinewidth": 0,
              "ticks": ""
             }
            },
            "type": "parcoords"
           }
          ],
          "pie": [
           {
            "automargin": true,
            "type": "pie"
           }
          ],
          "scatter": [
           {
            "fillpattern": {
             "fillmode": "overlay",
             "size": 10,
             "solidity": 0.2
            },
            "type": "scatter"
           }
          ],
          "scatter3d": [
           {
            "line": {
             "colorbar": {
              "outlinewidth": 0,
              "ticks": ""
             }
            },
            "marker": {
             "colorbar": {
              "outlinewidth": 0,
              "ticks": ""
             }
            },
            "type": "scatter3d"
           }
          ],
          "scattercarpet": [
           {
            "marker": {
             "colorbar": {
              "outlinewidth": 0,
              "ticks": ""
             }
            },
            "type": "scattercarpet"
           }
          ],
          "scattergeo": [
           {
            "marker": {
             "colorbar": {
              "outlinewidth": 0,
              "ticks": ""
             }
            },
            "type": "scattergeo"
           }
          ],
          "scattergl": [
           {
            "marker": {
             "colorbar": {
              "outlinewidth": 0,
              "ticks": ""
             }
            },
            "type": "scattergl"
           }
          ],
          "scattermap": [
           {
            "marker": {
             "colorbar": {
              "outlinewidth": 0,
              "ticks": ""
             }
            },
            "type": "scattermap"
           }
          ],
          "scattermapbox": [
           {
            "marker": {
             "colorbar": {
              "outlinewidth": 0,
              "ticks": ""
             }
            },
            "type": "scattermapbox"
           }
          ],
          "scatterpolar": [
           {
            "marker": {
             "colorbar": {
              "outlinewidth": 0,
              "ticks": ""
             }
            },
            "type": "scatterpolar"
           }
          ],
          "scatterpolargl": [
           {
            "marker": {
             "colorbar": {
              "outlinewidth": 0,
              "ticks": ""
             }
            },
            "type": "scatterpolargl"
           }
          ],
          "scatterternary": [
           {
            "marker": {
             "colorbar": {
              "outlinewidth": 0,
              "ticks": ""
             }
            },
            "type": "scatterternary"
           }
          ],
          "surface": [
           {
            "colorbar": {
             "outlinewidth": 0,
             "ticks": ""
            },
            "colorscale": [
             [
              0,
              "#0d0887"
             ],
             [
              0.1111111111111111,
              "#46039f"
             ],
             [
              0.2222222222222222,
              "#7201a8"
             ],
             [
              0.3333333333333333,
              "#9c179e"
             ],
             [
              0.4444444444444444,
              "#bd3786"
             ],
             [
              0.5555555555555556,
              "#d8576b"
             ],
             [
              0.6666666666666666,
              "#ed7953"
             ],
             [
              0.7777777777777778,
              "#fb9f3a"
             ],
             [
              0.8888888888888888,
              "#fdca26"
             ],
             [
              1,
              "#f0f921"
             ]
            ],
            "type": "surface"
           }
          ],
          "table": [
           {
            "cells": {
             "fill": {
              "color": "#EBF0F8"
             },
             "line": {
              "color": "white"
             }
            },
            "header": {
             "fill": {
              "color": "#C8D4E3"
             },
             "line": {
              "color": "white"
             }
            },
            "type": "table"
           }
          ]
         },
         "layout": {
          "annotationdefaults": {
           "arrowcolor": "#2a3f5f",
           "arrowhead": 0,
           "arrowwidth": 1
          },
          "autotypenumbers": "strict",
          "coloraxis": {
           "colorbar": {
            "outlinewidth": 0,
            "ticks": ""
           }
          },
          "colorscale": {
           "diverging": [
            [
             0,
             "#8e0152"
            ],
            [
             0.1,
             "#c51b7d"
            ],
            [
             0.2,
             "#de77ae"
            ],
            [
             0.3,
             "#f1b6da"
            ],
            [
             0.4,
             "#fde0ef"
            ],
            [
             0.5,
             "#f7f7f7"
            ],
            [
             0.6,
             "#e6f5d0"
            ],
            [
             0.7,
             "#b8e186"
            ],
            [
             0.8,
             "#7fbc41"
            ],
            [
             0.9,
             "#4d9221"
            ],
            [
             1,
             "#276419"
            ]
           ],
           "sequential": [
            [
             0,
             "#0d0887"
            ],
            [
             0.1111111111111111,
             "#46039f"
            ],
            [
             0.2222222222222222,
             "#7201a8"
            ],
            [
             0.3333333333333333,
             "#9c179e"
            ],
            [
             0.4444444444444444,
             "#bd3786"
            ],
            [
             0.5555555555555556,
             "#d8576b"
            ],
            [
             0.6666666666666666,
             "#ed7953"
            ],
            [
             0.7777777777777778,
             "#fb9f3a"
            ],
            [
             0.8888888888888888,
             "#fdca26"
            ],
            [
             1,
             "#f0f921"
            ]
           ],
           "sequentialminus": [
            [
             0,
             "#0d0887"
            ],
            [
             0.1111111111111111,
             "#46039f"
            ],
            [
             0.2222222222222222,
             "#7201a8"
            ],
            [
             0.3333333333333333,
             "#9c179e"
            ],
            [
             0.4444444444444444,
             "#bd3786"
            ],
            [
             0.5555555555555556,
             "#d8576b"
            ],
            [
             0.6666666666666666,
             "#ed7953"
            ],
            [
             0.7777777777777778,
             "#fb9f3a"
            ],
            [
             0.8888888888888888,
             "#fdca26"
            ],
            [
             1,
             "#f0f921"
            ]
           ]
          },
          "colorway": [
           "#636efa",
           "#EF553B",
           "#00cc96",
           "#ab63fa",
           "#FFA15A",
           "#19d3f3",
           "#FF6692",
           "#B6E880",
           "#FF97FF",
           "#FECB52"
          ],
          "font": {
           "color": "#2a3f5f"
          },
          "geo": {
           "bgcolor": "white",
           "lakecolor": "white",
           "landcolor": "#E5ECF6",
           "showlakes": true,
           "showland": true,
           "subunitcolor": "white"
          },
          "hoverlabel": {
           "align": "left"
          },
          "hovermode": "closest",
          "mapbox": {
           "style": "light"
          },
          "paper_bgcolor": "white",
          "plot_bgcolor": "#E5ECF6",
          "polar": {
           "angularaxis": {
            "gridcolor": "white",
            "linecolor": "white",
            "ticks": ""
           },
           "bgcolor": "#E5ECF6",
           "radialaxis": {
            "gridcolor": "white",
            "linecolor": "white",
            "ticks": ""
           }
          },
          "scene": {
           "xaxis": {
            "backgroundcolor": "#E5ECF6",
            "gridcolor": "white",
            "gridwidth": 2,
            "linecolor": "white",
            "showbackground": true,
            "ticks": "",
            "zerolinecolor": "white"
           },
           "yaxis": {
            "backgroundcolor": "#E5ECF6",
            "gridcolor": "white",
            "gridwidth": 2,
            "linecolor": "white",
            "showbackground": true,
            "ticks": "",
            "zerolinecolor": "white"
           },
           "zaxis": {
            "backgroundcolor": "#E5ECF6",
            "gridcolor": "white",
            "gridwidth": 2,
            "linecolor": "white",
            "showbackground": true,
            "ticks": "",
            "zerolinecolor": "white"
           }
          },
          "shapedefaults": {
           "line": {
            "color": "#2a3f5f"
           }
          },
          "ternary": {
           "aaxis": {
            "gridcolor": "white",
            "linecolor": "white",
            "ticks": ""
           },
           "baxis": {
            "gridcolor": "white",
            "linecolor": "white",
            "ticks": ""
           },
           "bgcolor": "#E5ECF6",
           "caxis": {
            "gridcolor": "white",
            "linecolor": "white",
            "ticks": ""
           }
          },
          "title": {
           "x": 0.05
          },
          "xaxis": {
           "automargin": true,
           "gridcolor": "white",
           "linecolor": "white",
           "ticks": "",
           "title": {
            "standoff": 15
           },
           "zerolinecolor": "white",
           "zerolinewidth": 2
          },
          "yaxis": {
           "automargin": true,
           "gridcolor": "white",
           "linecolor": "white",
           "ticks": "",
           "title": {
            "standoff": 15
           },
           "zerolinecolor": "white",
           "zerolinewidth": 2
          }
         }
        },
        "title": {
         "text": "Actual vs Predicted Car Prices"
        },
        "xaxis": {
         "anchor": "y",
         "domain": [
          0,
          1
         ],
         "title": {
          "text": "Actual Prices"
         }
        },
        "yaxis": {
         "anchor": "x",
         "domain": [
          0,
          1
         ],
         "title": {
          "text": "Predicted Prices"
         }
        }
       }
      }
     },
     "metadata": {},
     "output_type": "display_data"
    },
    {
     "data": {
      "application/vnd.plotly.v1+json": {
       "config": {
        "plotlyServerURL": "https://plot.ly"
       },
       "data": [
        {
         "bingroup": "x",
         "hovertemplate": "variable=Price<br>Residual (Actual - Predicted)=%{x}<br>count=%{y}<extra></extra>",
         "legendgroup": "Price",
         "marker": {
          "color": "#636efa",
          "pattern": {
           "shape": ""
          }
         },
         "name": "Price",
         "nbinsx": 30,
         "orientation": "v",
         "showlegend": true,
         "type": "histogram",
         "x": {
          "bdata": "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",
          "dtype": "f8"
         },
         "xaxis": "x",
         "yaxis": "y"
        }
       ],
       "layout": {
        "barmode": "relative",
        "legend": {
         "title": {
          "text": "variable"
         },
         "tracegroupgap": 0
        },
        "shapes": [
         {
          "line": {
           "color": "red",
           "dash": "dash"
          },
          "type": "line",
          "x0": 0,
          "x1": 0,
          "xref": "x",
          "y0": 0,
          "y1": 1,
          "yref": "y domain"
         }
        ],
        "template": {
         "data": {
          "bar": [
           {
            "error_x": {
             "color": "#2a3f5f"
            },
            "error_y": {
             "color": "#2a3f5f"
            },
            "marker": {
             "line": {
              "color": "#E5ECF6",
              "width": 0.5
             },
             "pattern": {
              "fillmode": "overlay",
              "size": 10,
              "solidity": 0.2
             }
            },
            "type": "bar"
           }
          ],
          "barpolar": [
           {
            "marker": {
             "line": {
              "color": "#E5ECF6",
              "width": 0.5
             },
             "pattern": {
              "fillmode": "overlay",
              "size": 10,
              "solidity": 0.2
             }
            },
            "type": "barpolar"
           }
          ],
          "carpet": [
           {
            "aaxis": {
             "endlinecolor": "#2a3f5f",
             "gridcolor": "white",
             "linecolor": "white",
             "minorgridcolor": "white",
             "startlinecolor": "#2a3f5f"
            },
            "baxis": {
             "endlinecolor": "#2a3f5f",
             "gridcolor": "white",
             "linecolor": "white",
             "minorgridcolor": "white",
             "startlinecolor": "#2a3f5f"
            },
            "type": "carpet"
           }
          ],
          "choropleth": [
           {
            "colorbar": {
             "outlinewidth": 0,
             "ticks": ""
            },
            "type": "choropleth"
           }
          ],
          "contour": [
           {
            "colorbar": {
             "outlinewidth": 0,
             "ticks": ""
            },
            "colorscale": [
             [
              0,
              "#0d0887"
             ],
             [
              0.1111111111111111,
              "#46039f"
             ],
             [
              0.2222222222222222,
              "#7201a8"
             ],
             [
              0.3333333333333333,
              "#9c179e"
             ],
             [
              0.4444444444444444,
              "#bd3786"
             ],
             [
              0.5555555555555556,
              "#d8576b"
             ],
             [
              0.6666666666666666,
              "#ed7953"
             ],
             [
              0.7777777777777778,
              "#fb9f3a"
             ],
             [
              0.8888888888888888,
              "#fdca26"
             ],
             [
              1,
              "#f0f921"
             ]
            ],
            "type": "contour"
           }
          ],
          "contourcarpet": [
           {
            "colorbar": {
             "outlinewidth": 0,
             "ticks": ""
            },
            "type": "contourcarpet"
           }
          ],
          "heatmap": [
           {
            "colorbar": {
             "outlinewidth": 0,
             "ticks": ""
            },
            "colorscale": [
             [
              0,
              "#0d0887"
             ],
             [
              0.1111111111111111,
              "#46039f"
             ],
             [
              0.2222222222222222,
              "#7201a8"
             ],
             [
              0.3333333333333333,
              "#9c179e"
             ],
             [
              0.4444444444444444,
              "#bd3786"
             ],
             [
              0.5555555555555556,
              "#d8576b"
             ],
             [
              0.6666666666666666,
              "#ed7953"
             ],
             [
              0.7777777777777778,
              "#fb9f3a"
             ],
             [
              0.8888888888888888,
              "#fdca26"
             ],
             [
              1,
              "#f0f921"
             ]
            ],
            "type": "heatmap"
           }
          ],
          "histogram": [
           {
            "marker": {
             "pattern": {
              "fillmode": "overlay",
              "size": 10,
              "solidity": 0.2
             }
            },
            "type": "histogram"
           }
          ],
          "histogram2d": [
           {
            "colorbar": {
             "outlinewidth": 0,
             "ticks": ""
            },
            "colorscale": [
             [
              0,
              "#0d0887"
             ],
             [
              0.1111111111111111,
              "#46039f"
             ],
             [
              0.2222222222222222,
              "#7201a8"
             ],
             [
              0.3333333333333333,
              "#9c179e"
             ],
             [
              0.4444444444444444,
              "#bd3786"
             ],
             [
              0.5555555555555556,
              "#d8576b"
             ],
             [
              0.6666666666666666,
              "#ed7953"
             ],
             [
              0.7777777777777778,
              "#fb9f3a"
             ],
             [
              0.8888888888888888,
              "#fdca26"
             ],
             [
              1,
              "#f0f921"
             ]
            ],
            "type": "histogram2d"
           }
          ],
          "histogram2dcontour": [
           {
            "colorbar": {
             "outlinewidth": 0,
             "ticks": ""
            },
            "colorscale": [
             [
              0,
              "#0d0887"
             ],
             [
              0.1111111111111111,
              "#46039f"
             ],
             [
              0.2222222222222222,
              "#7201a8"
             ],
             [
              0.3333333333333333,
              "#9c179e"
             ],
             [
              0.4444444444444444,
              "#bd3786"
             ],
             [
              0.5555555555555556,
              "#d8576b"
             ],
             [
              0.6666666666666666,
              "#ed7953"
             ],
             [
              0.7777777777777778,
              "#fb9f3a"
             ],
             [
              0.8888888888888888,
              "#fdca26"
             ],
             [
              1,
              "#f0f921"
             ]
            ],
            "type": "histogram2dcontour"
           }
          ],
          "mesh3d": [
           {
            "colorbar": {
             "outlinewidth": 0,
             "ticks": ""
            },
            "type": "mesh3d"
           }
          ],
          "parcoords": [
           {
            "line": {
             "colorbar": {
              "outlinewidth": 0,
              "ticks": ""
             }
            },
            "type": "parcoords"
           }
          ],
          "pie": [
           {
            "automargin": true,
            "type": "pie"
           }
          ],
          "scatter": [
           {
            "fillpattern": {
             "fillmode": "overlay",
             "size": 10,
             "solidity": 0.2
            },
            "type": "scatter"
           }
          ],
          "scatter3d": [
           {
            "line": {
             "colorbar": {
              "outlinewidth": 0,
              "ticks": ""
             }
            },
            "marker": {
             "colorbar": {
              "outlinewidth": 0,
              "ticks": ""
             }
            },
            "type": "scatter3d"
           }
          ],
          "scattercarpet": [
           {
            "marker": {
             "colorbar": {
              "outlinewidth": 0,
              "ticks": ""
             }
            },
            "type": "scattercarpet"
           }
          ],
          "scattergeo": [
           {
            "marker": {
             "colorbar": {
              "outlinewidth": 0,
              "ticks": ""
             }
            },
            "type": "scattergeo"
           }
          ],
          "scattergl": [
           {
            "marker": {
             "colorbar": {
              "outlinewidth": 0,
              "ticks": ""
             }
            },
            "type": "scattergl"
           }
          ],
          "scattermap": [
           {
            "marker": {
             "colorbar": {
              "outlinewidth": 0,
              "ticks": ""
             }
            },
            "type": "scattermap"
           }
          ],
          "scattermapbox": [
           {
            "marker": {
             "colorbar": {
              "outlinewidth": 0,
              "ticks": ""
             }
            },
            "type": "scattermapbox"
           }
          ],
          "scatterpolar": [
           {
            "marker": {
             "colorbar": {
              "outlinewidth": 0,
              "ticks": ""
             }
            },
            "type": "scatterpolar"
           }
          ],
          "scatterpolargl": [
           {
            "marker": {
             "colorbar": {
              "outlinewidth": 0,
              "ticks": ""
             }
            },
            "type": "scatterpolargl"
           }
          ],
          "scatterternary": [
           {
            "marker": {
             "colorbar": {
              "outlinewidth": 0,
              "ticks": ""
             }
            },
            "type": "scatterternary"
           }
          ],
          "surface": [
           {
            "colorbar": {
             "outlinewidth": 0,
             "ticks": ""
            },
            "colorscale": [
             [
              0,
              "#0d0887"
             ],
             [
              0.1111111111111111,
              "#46039f"
             ],
             [
              0.2222222222222222,
              "#7201a8"
             ],
             [
              0.3333333333333333,
              "#9c179e"
             ],
             [
              0.4444444444444444,
              "#bd3786"
             ],
             [
              0.5555555555555556,
              "#d8576b"
             ],
             [
              0.6666666666666666,
              "#ed7953"
             ],
             [
              0.7777777777777778,
              "#fb9f3a"
             ],
             [
              0.8888888888888888,
              "#fdca26"
             ],
             [
              1,
              "#f0f921"
             ]
            ],
            "type": "surface"
           }
          ],
          "table": [
           {
            "cells": {
             "fill": {
              "color": "#EBF0F8"
             },
             "line": {
              "color": "white"
             }
            },
            "header": {
             "fill": {
              "color": "#C8D4E3"
             },
             "line": {
              "color": "white"
             }
            },
            "type": "table"
           }
          ]
         },
         "layout": {
          "annotationdefaults": {
           "arrowcolor": "#2a3f5f",
           "arrowhead": 0,
           "arrowwidth": 1
          },
          "autotypenumbers": "strict",
          "coloraxis": {
           "colorbar": {
            "outlinewidth": 0,
            "ticks": ""
           }
          },
          "colorscale": {
           "diverging": [
            [
             0,
             "#8e0152"
            ],
            [
             0.1,
             "#c51b7d"
            ],
            [
             0.2,
             "#de77ae"
            ],
            [
             0.3,
             "#f1b6da"
            ],
            [
             0.4,
             "#fde0ef"
            ],
            [
             0.5,
             "#f7f7f7"
            ],
            [
             0.6,
             "#e6f5d0"
            ],
            [
             0.7,
             "#b8e186"
            ],
            [
             0.8,
             "#7fbc41"
            ],
            [
             0.9,
             "#4d9221"
            ],
            [
             1,
             "#276419"
            ]
           ],
           "sequential": [
            [
             0,
             "#0d0887"
            ],
            [
             0.1111111111111111,
             "#46039f"
            ],
            [
             0.2222222222222222,
             "#7201a8"
            ],
            [
             0.3333333333333333,
             "#9c179e"
            ],
            [
             0.4444444444444444,
             "#bd3786"
            ],
            [
             0.5555555555555556,
             "#d8576b"
            ],
            [
             0.6666666666666666,
             "#ed7953"
            ],
            [
             0.7777777777777778,
             "#fb9f3a"
            ],
            [
             0.8888888888888888,
             "#fdca26"
            ],
            [
             1,
             "#f0f921"
            ]
           ],
           "sequentialminus": [
            [
             0,
             "#0d0887"
            ],
            [
             0.1111111111111111,
             "#46039f"
            ],
            [
             0.2222222222222222,
             "#7201a8"
            ],
            [
             0.3333333333333333,
             "#9c179e"
            ],
            [
             0.4444444444444444,
             "#bd3786"
            ],
            [
             0.5555555555555556,
             "#d8576b"
            ],
            [
             0.6666666666666666,
             "#ed7953"
            ],
            [
             0.7777777777777778,
             "#fb9f3a"
            ],
            [
             0.8888888888888888,
             "#fdca26"
            ],
            [
             1,
             "#f0f921"
            ]
           ]
          },
          "colorway": [
           "#636efa",
           "#EF553B",
           "#00cc96",
           "#ab63fa",
           "#FFA15A",
           "#19d3f3",
           "#FF6692",
           "#B6E880",
           "#FF97FF",
           "#FECB52"
          ],
          "font": {
           "color": "#2a3f5f"
          },
          "geo": {
           "bgcolor": "white",
           "lakecolor": "white",
           "landcolor": "#E5ECF6",
           "showlakes": true,
           "showland": true,
           "subunitcolor": "white"
          },
          "hoverlabel": {
           "align": "left"
          },
          "hovermode": "closest",
          "mapbox": {
           "style": "light"
          },
          "paper_bgcolor": "white",
          "plot_bgcolor": "#E5ECF6",
          "polar": {
           "angularaxis": {
            "gridcolor": "white",
            "linecolor": "white",
            "ticks": ""
           },
           "bgcolor": "#E5ECF6",
           "radialaxis": {
            "gridcolor": "white",
            "linecolor": "white",
            "ticks": ""
           }
          },
          "scene": {
           "xaxis": {
            "backgroundcolor": "#E5ECF6",
            "gridcolor": "white",
            "gridwidth": 2,
            "linecolor": "white",
            "showbackground": true,
            "ticks": "",
            "zerolinecolor": "white"
           },
           "yaxis": {
            "backgroundcolor": "#E5ECF6",
            "gridcolor": "white",
            "gridwidth": 2,
            "linecolor": "white",
            "showbackground": true,
            "ticks": "",
            "zerolinecolor": "white"
           },
           "zaxis": {
            "backgroundcolor": "#E5ECF6",
            "gridcolor": "white",
            "gridwidth": 2,
            "linecolor": "white",
            "showbackground": true,
            "ticks": "",
            "zerolinecolor": "white"
           }
          },
          "shapedefaults": {
           "line": {
            "color": "#2a3f5f"
           }
          },
          "ternary": {
           "aaxis": {
            "gridcolor": "white",
            "linecolor": "white",
            "ticks": ""
           },
           "baxis": {
            "gridcolor": "white",
            "linecolor": "white",
            "ticks": ""
           },
           "bgcolor": "#E5ECF6",
           "caxis": {
            "gridcolor": "white",
            "linecolor": "white",
            "ticks": ""
           }
          },
          "title": {
           "x": 0.05
          },
          "xaxis": {
           "automargin": true,
           "gridcolor": "white",
           "linecolor": "white",
           "ticks": "",
           "title": {
            "standoff": 15
           },
           "zerolinecolor": "white",
           "zerolinewidth": 2
          },
          "yaxis": {
           "automargin": true,
           "gridcolor": "white",
           "linecolor": "white",
           "ticks": "",
           "title": {
            "standoff": 15
           },
           "zerolinecolor": "white",
           "zerolinewidth": 2
          }
         }
        },
        "title": {
         "text": "Residual Distribution"
        },
        "xaxis": {
         "anchor": "y",
         "domain": [
          0,
          1
         ],
         "title": {
          "text": "Residual (Actual - Predicted)"
         }
        },
        "yaxis": {
         "anchor": "x",
         "domain": [
          0,
          1
         ],
         "title": {
          "text": "count"
         }
        }
       }
      }
     },
     "metadata": {},
     "output_type": "display_data"
    },
    {
     "data": {
      "application/vnd.plotly.v1+json": {
       "config": {
        "plotlyServerURL": "https://plot.ly"
       },
       "data": [
        {
         "hovertemplate": "Predicted Prices=%{x}<br>Residuals=%{y}<extra></extra>",
         "legendgroup": "",
         "marker": {
          "color": "#636efa",
          "opacity": 0.6,
          "symbol": "circle"
         },
         "mode": "markers",
         "name": "",
         "showlegend": false,
         "type": "scattergl",
         "x": {
          "bdata": "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",
          "dtype": "f8"
         },
         "xaxis": "x",
         "y": {
          "bdata": "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",
          "dtype": "f8"
         },
         "yaxis": "y"
        }
       ],
       "layout": {
        "legend": {
         "tracegroupgap": 0
        },
        "shapes": [
         {
          "line": {
           "color": "red",
           "dash": "dash"
          },
          "type": "line",
          "x0": 0,
          "x1": 1,
          "xref": "x domain",
          "y0": 0,
          "y1": 0,
          "yref": "y"
         }
        ],
        "template": {
         "data": {
          "bar": [
           {
            "error_x": {
             "color": "#2a3f5f"
            },
            "error_y": {
             "color": "#2a3f5f"
            },
            "marker": {
             "line": {
              "color": "#E5ECF6",
              "width": 0.5
             },
             "pattern": {
              "fillmode": "overlay",
              "size": 10,
              "solidity": 0.2
             }
            },
            "type": "bar"
           }
          ],
          "barpolar": [
           {
            "marker": {
             "line": {
              "color": "#E5ECF6",
              "width": 0.5
             },
             "pattern": {
              "fillmode": "overlay",
              "size": 10,
              "solidity": 0.2
             }
            },
            "type": "barpolar"
           }
          ],
          "carpet": [
           {
            "aaxis": {
             "endlinecolor": "#2a3f5f",
             "gridcolor": "white",
             "linecolor": "white",
             "minorgridcolor": "white",
             "startlinecolor": "#2a3f5f"
            },
            "baxis": {
             "endlinecolor": "#2a3f5f",
             "gridcolor": "white",
             "linecolor": "white",
             "minorgridcolor": "white",
             "startlinecolor": "#2a3f5f"
            },
            "type": "carpet"
           }
          ],
          "choropleth": [
           {
            "colorbar": {
             "outlinewidth": 0,
             "ticks": ""
            },
            "type": "choropleth"
           }
          ],
          "contour": [
           {
            "colorbar": {
             "outlinewidth": 0,
             "ticks": ""
            },
            "colorscale": [
             [
              0,
              "#0d0887"
             ],
             [
              0.1111111111111111,
              "#46039f"
             ],
             [
              0.2222222222222222,
              "#7201a8"
             ],
             [
              0.3333333333333333,
              "#9c179e"
             ],
             [
              0.4444444444444444,
              "#bd3786"
             ],
             [
              0.5555555555555556,
              "#d8576b"
             ],
             [
              0.6666666666666666,
              "#ed7953"
             ],
             [
              0.7777777777777778,
              "#fb9f3a"
             ],
             [
              0.8888888888888888,
              "#fdca26"
             ],
             [
              1,
              "#f0f921"
             ]
            ],
            "type": "contour"
           }
          ],
          "contourcarpet": [
           {
            "colorbar": {
             "outlinewidth": 0,
             "ticks": ""
            },
            "type": "contourcarpet"
           }
          ],
          "heatmap": [
           {
            "colorbar": {
             "outlinewidth": 0,
             "ticks": ""
            },
            "colorscale": [
             [
              0,
              "#0d0887"
             ],
             [
              0.1111111111111111,
              "#46039f"
             ],
             [
              0.2222222222222222,
              "#7201a8"
             ],
             [
              0.3333333333333333,
              "#9c179e"
             ],
             [
              0.4444444444444444,
              "#bd3786"
             ],
             [
              0.5555555555555556,
              "#d8576b"
             ],
             [
              0.6666666666666666,
              "#ed7953"
             ],
             [
              0.7777777777777778,
              "#fb9f3a"
             ],
             [
              0.8888888888888888,
              "#fdca26"
             ],
             [
              1,
              "#f0f921"
             ]
            ],
            "type": "heatmap"
           }
          ],
          "histogram": [
           {
            "marker": {
             "pattern": {
              "fillmode": "overlay",
              "size": 10,
              "solidity": 0.2
             }
            },
            "type": "histogram"
           }
          ],
          "histogram2d": [
           {
            "colorbar": {
             "outlinewidth": 0,
             "ticks": ""
            },
            "colorscale": [
             [
              0,
              "#0d0887"
             ],
             [
              0.1111111111111111,
              "#46039f"
             ],
             [
              0.2222222222222222,
              "#7201a8"
             ],
             [
              0.3333333333333333,
              "#9c179e"
             ],
             [
              0.4444444444444444,
              "#bd3786"
             ],
             [
              0.5555555555555556,
              "#d8576b"
             ],
             [
              0.6666666666666666,
              "#ed7953"
             ],
             [
              0.7777777777777778,
              "#fb9f3a"
             ],
             [
              0.8888888888888888,
              "#fdca26"
             ],
             [
              1,
              "#f0f921"
             ]
            ],
            "type": "histogram2d"
           }
          ],
          "histogram2dcontour": [
           {
            "colorbar": {
             "outlinewidth": 0,
             "ticks": ""
            },
            "colorscale": [
             [
              0,
              "#0d0887"
             ],
             [
              0.1111111111111111,
              "#46039f"
             ],
             [
              0.2222222222222222,
              "#7201a8"
             ],
             [
              0.3333333333333333,
              "#9c179e"
             ],
             [
              0.4444444444444444,
              "#bd3786"
             ],
             [
              0.5555555555555556,
              "#d8576b"
             ],
             [
              0.6666666666666666,
              "#ed7953"
             ],
             [
              0.7777777777777778,
              "#fb9f3a"
             ],
             [
              0.8888888888888888,
              "#fdca26"
             ],
             [
              1,
              "#f0f921"
             ]
            ],
            "type": "histogram2dcontour"
           }
          ],
          "mesh3d": [
           {
            "colorbar": {
             "outlinewidth": 0,
             "ticks": ""
            },
            "type": "mesh3d"
           }
          ],
          "parcoords": [
           {
            "line": {
             "colorbar": {
              "outlinewidth": 0,
              "ticks": ""
             }
            },
            "type": "parcoords"
           }
          ],
          "pie": [
           {
            "automargin": true,
            "type": "pie"
           }
          ],
          "scatter": [
           {
            "fillpattern": {
             "fillmode": "overlay",
             "size": 10,
             "solidity": 0.2
            },
            "type": "scatter"
           }
          ],
          "scatter3d": [
           {
            "line": {
             "colorbar": {
              "outlinewidth": 0,
              "ticks": ""
             }
            },
            "marker": {
             "colorbar": {
              "outlinewidth": 0,
              "ticks": ""
             }
            },
            "type": "scatter3d"
           }
          ],
          "scattercarpet": [
           {
            "marker": {
             "colorbar": {
              "outlinewidth": 0,
              "ticks": ""
             }
            },
            "type": "scattercarpet"
           }
          ],
          "scattergeo": [
           {
            "marker": {
             "colorbar": {
              "outlinewidth": 0,
              "ticks": ""
             }
            },
            "type": "scattergeo"
           }
          ],
          "scattergl": [
           {
            "marker": {
             "colorbar": {
              "outlinewidth": 0,
              "ticks": ""
             }
            },
            "type": "scattergl"
           }
          ],
          "scattermap": [
           {
            "marker": {
             "colorbar": {
              "outlinewidth": 0,
              "ticks": ""
             }
            },
            "type": "scattermap"
           }
          ],
          "scattermapbox": [
           {
            "marker": {
             "colorbar": {
              "outlinewidth": 0,
              "ticks": ""
             }
            },
            "type": "scattermapbox"
           }
          ],
          "scatterpolar": [
           {
            "marker": {
             "colorbar": {
              "outlinewidth": 0,
              "ticks": ""
             }
            },
            "type": "scatterpolar"
           }
          ],
          "scatterpolargl": [
           {
            "marker": {
             "colorbar": {
              "outlinewidth": 0,
              "ticks": ""
             }
            },
            "type": "scatterpolargl"
           }
          ],
          "scatterternary": [
           {
            "marker": {
             "colorbar": {
              "outlinewidth": 0,
              "ticks": ""
             }
            },
            "type": "scatterternary"
           }
          ],
          "surface": [
           {
            "colorbar": {
             "outlinewidth": 0,
             "ticks": ""
            },
            "colorscale": [
             [
              0,
              "#0d0887"
             ],
             [
              0.1111111111111111,
              "#46039f"
             ],
             [
              0.2222222222222222,
              "#7201a8"
             ],
             [
              0.3333333333333333,
              "#9c179e"
             ],
             [
              0.4444444444444444,
              "#bd3786"
             ],
             [
              0.5555555555555556,
              "#d8576b"
             ],
             [
              0.6666666666666666,
              "#ed7953"
             ],
             [
              0.7777777777777778,
              "#fb9f3a"
             ],
             [
              0.8888888888888888,
              "#fdca26"
             ],
             [
              1,
              "#f0f921"
             ]
            ],
            "type": "surface"
           }
          ],
          "table": [
           {
            "cells": {
             "fill": {
              "color": "#EBF0F8"
             },
             "line": {
              "color": "white"
             }
            },
            "header": {
             "fill": {
              "color": "#C8D4E3"
             },
             "line": {
              "color": "white"
             }
            },
            "type": "table"
           }
          ]
         },
         "layout": {
          "annotationdefaults": {
           "arrowcolor": "#2a3f5f",
           "arrowhead": 0,
           "arrowwidth": 1
          },
          "autotypenumbers": "strict",
          "coloraxis": {
           "colorbar": {
            "outlinewidth": 0,
            "ticks": ""
           }
          },
          "colorscale": {
           "diverging": [
            [
             0,
             "#8e0152"
            ],
            [
             0.1,
             "#c51b7d"
            ],
            [
             0.2,
             "#de77ae"
            ],
            [
             0.3,
             "#f1b6da"
            ],
            [
             0.4,
             "#fde0ef"
            ],
            [
             0.5,
             "#f7f7f7"
            ],
            [
             0.6,
             "#e6f5d0"
            ],
            [
             0.7,
             "#b8e186"
            ],
            [
             0.8,
             "#7fbc41"
            ],
            [
             0.9,
             "#4d9221"
            ],
            [
             1,
             "#276419"
            ]
           ],
           "sequential": [
            [
             0,
             "#0d0887"
            ],
            [
             0.1111111111111111,
             "#46039f"
            ],
            [
             0.2222222222222222,
             "#7201a8"
            ],
            [
             0.3333333333333333,
             "#9c179e"
            ],
            [
             0.4444444444444444,
             "#bd3786"
            ],
            [
             0.5555555555555556,
             "#d8576b"
            ],
            [
             0.6666666666666666,
             "#ed7953"
            ],
            [
             0.7777777777777778,
             "#fb9f3a"
            ],
            [
             0.8888888888888888,
             "#fdca26"
            ],
            [
             1,
             "#f0f921"
            ]
           ],
           "sequentialminus": [
            [
             0,
             "#0d0887"
            ],
            [
             0.1111111111111111,
             "#46039f"
            ],
            [
             0.2222222222222222,
             "#7201a8"
            ],
            [
             0.3333333333333333,
             "#9c179e"
            ],
            [
             0.4444444444444444,
             "#bd3786"
            ],
            [
             0.5555555555555556,
             "#d8576b"
            ],
            [
             0.6666666666666666,
             "#ed7953"
            ],
            [
             0.7777777777777778,
             "#fb9f3a"
            ],
            [
             0.8888888888888888,
             "#fdca26"
            ],
            [
             1,
             "#f0f921"
            ]
           ]
          },
          "colorway": [
           "#636efa",
           "#EF553B",
           "#00cc96",
           "#ab63fa",
           "#FFA15A",
           "#19d3f3",
           "#FF6692",
           "#B6E880",
           "#FF97FF",
           "#FECB52"
          ],
          "font": {
           "color": "#2a3f5f"
          },
          "geo": {
           "bgcolor": "white",
           "lakecolor": "white",
           "landcolor": "#E5ECF6",
           "showlakes": true,
           "showland": true,
           "subunitcolor": "white"
          },
          "hoverlabel": {
           "align": "left"
          },
          "hovermode": "closest",
          "mapbox": {
           "style": "light"
          },
          "paper_bgcolor": "white",
          "plot_bgcolor": "#E5ECF6",
          "polar": {
           "angularaxis": {
            "gridcolor": "white",
            "linecolor": "white",
            "ticks": ""
           },
           "bgcolor": "#E5ECF6",
           "radialaxis": {
            "gridcolor": "white",
            "linecolor": "white",
            "ticks": ""
           }
          },
          "scene": {
           "xaxis": {
            "backgroundcolor": "#E5ECF6",
            "gridcolor": "white",
            "gridwidth": 2,
            "linecolor": "white",
            "showbackground": true,
            "ticks": "",
            "zerolinecolor": "white"
           },
           "yaxis": {
            "backgroundcolor": "#E5ECF6",
            "gridcolor": "white",
            "gridwidth": 2,
            "linecolor": "white",
            "showbackground": true,
            "ticks": "",
            "zerolinecolor": "white"
           },
           "zaxis": {
            "backgroundcolor": "#E5ECF6",
            "gridcolor": "white",
            "gridwidth": 2,
            "linecolor": "white",
            "showbackground": true,
            "ticks": "",
            "zerolinecolor": "white"
           }
          },
          "shapedefaults": {
           "line": {
            "color": "#2a3f5f"
           }
          },
          "ternary": {
           "aaxis": {
            "gridcolor": "white",
            "linecolor": "white",
            "ticks": ""
           },
           "baxis": {
            "gridcolor": "white",
            "linecolor": "white",
            "ticks": ""
           },
           "bgcolor": "#E5ECF6",
           "caxis": {
            "gridcolor": "white",
            "linecolor": "white",
            "ticks": ""
           }
          },
          "title": {
           "x": 0.05
          },
          "xaxis": {
           "automargin": true,
           "gridcolor": "white",
           "linecolor": "white",
           "ticks": "",
           "title": {
            "standoff": 15
           },
           "zerolinecolor": "white",
           "zerolinewidth": 2
          },
          "yaxis": {
           "automargin": true,
           "gridcolor": "white",
           "linecolor": "white",
           "ticks": "",
           "title": {
            "standoff": 15
           },
           "zerolinecolor": "white",
           "zerolinewidth": 2
          }
         }
        },
        "title": {
         "text": "Residuals vs Predicted"
        },
        "xaxis": {
         "anchor": "y",
         "domain": [
          0,
          1
         ],
         "title": {
          "text": "Predicted Prices"
         }
        },
        "yaxis": {
         "anchor": "x",
         "domain": [
          0,
          1
         ],
         "title": {
          "text": "Residuals"
         }
        }
       }
      }
     },
     "metadata": {},
     "output_type": "display_data"
    }
   ],
   "source": [
    "import plotly.express as px\n",
    "import plotly.graph_objects as go\n",
    "\n",
    "# =====================\n",
    "# 1. Evaluate Metrics\n",
    "# =====================\n",
    "mae = mean_absolute_error(y_test, y_pred)\n",
    "rmse = np.sqrt(mean_squared_error(y_test, y_pred))  # manual RMSE\n",
    "r2 = r2_score(y_test, y_pred)\n",
    "\n",
    "print(\"\\n📊 Test Set Performance:\")\n",
    "print(f\"MAE  : {mae:.4f}\")\n",
    "print(f\"RMSE : {rmse:.4f}\")\n",
    "print(f\"R²   : {r2:.4f}\")\n",
    "\n",
    "# =====================\n",
    "# 2. Scatter Plot (Actual vs Predicted)\n",
    "# =====================\n",
    "fig1 = px.scatter(\n",
    "    x=y_test, y=y_pred,\n",
    "    labels={'x':\"Actual Prices\", 'y':\"Predicted Prices\"},\n",
    "    title=\"Actual vs Predicted Car Prices\",\n",
    "    opacity=0.6\n",
    ")\n",
    "fig1.add_trace(go.Scatter(\n",
    "    x=[y_test.min(), y_test.max()],\n",
    "    y=[y_test.min(), y_test.max()],\n",
    "    mode=\"lines\",\n",
    "    line=dict(color=\"red\", dash=\"dash\"),\n",
    "    name=\"Ideal Fit\"\n",
    "))\n",
    "fig1.show()\n",
    "\n",
    "# =====================\n",
    "# 3. Residual Histogram\n",
    "# =====================\n",
    "residuals = y_test - y_pred\n",
    "fig2 = px.histogram(\n",
    "    residuals, nbins=30, title=\"Residual Distribution\",\n",
    "    labels={\"value\": \"Residual (Actual - Predicted)\"}\n",
    ")\n",
    "fig2.add_vline(x=0, line_color=\"red\", line_dash=\"dash\")\n",
    "fig2.show()\n",
    "\n",
    "# =====================\n",
    "# 4. Residuals vs Predicted\n",
    "# =====================\n",
    "fig3 = px.scatter(\n",
    "    x=y_pred, y=residuals,\n",
    "    labels={'x':\"Predicted Prices\", 'y':\"Residuals\"},\n",
    "    title=\"Residuals vs Predicted\",\n",
    "    opacity=0.6\n",
    ")\n",
    "fig3.add_hline(y=0, line_color=\"red\", line_dash=\"dash\")\n",
    "fig3.show()\n"
   ]
  },
  {
   "cell_type": "code",
   "execution_count": null,
   "id": "561cde91",
   "metadata": {},
   "outputs": [],
   "source": []
  }
 ],
 "metadata": {
  "kernelspec": {
   "display_name": "Python (p11)",
   "language": "python",
   "name": "p11"
  },
  "language_info": {
   "codemirror_mode": {
    "name": "ipython",
    "version": 3
   },
   "file_extension": ".py",
   "mimetype": "text/x-python",
   "name": "python",
   "nbconvert_exporter": "python",
   "pygments_lexer": "ipython3",
   "version": "3.11.13"
  }
 },
 "nbformat": 4,
 "nbformat_minor": 5
}
