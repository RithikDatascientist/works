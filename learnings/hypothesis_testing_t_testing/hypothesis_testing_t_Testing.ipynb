{
 "cells": [
  {
   "cell_type": "markdown",
   "id": "ee031d20-5563-44b4-be2a-50ae2ac09bb7",
   "metadata": {},
   "source": [
    "# 1 sample t-test eg "
   ]
  },
  {
   "cell_type": "code",
   "execution_count": 1,
   "id": "d429353b-d6d7-4676-8436-994ebd0d3ada",
   "metadata": {},
   "outputs": [],
   "source": [
    "import numpy as np\n",
    "import math \n",
    "import scipy.stats as stats"
   ]
  },
  {
   "cell_type": "code",
   "execution_count": 2,
   "id": "8f5021dd-4ce7-401f-8adc-d84c45681ce8",
   "metadata": {},
   "outputs": [],
   "source": [
    "height_office_people = [170.5, 166.3, 180.3, 164.4, 155.5, 162.7, 187.9, 169.7, 183.0, 170.0, 178.6, 174.8, 161.4, 172.0, 167.9, 154.5,\n",
    "172.9, 153.8, 155.7, 177.5, 164.3, 181.7, 168.4, 165.1, 155.8, 163.1, 157.3, 159.5, 173.8, 187.0]"
   ]
  },
  {
   "cell_type": "code",
   "execution_count": 3,
   "id": "ab6fc740-7e31-496c-8b6f-a4fc2015d159",
   "metadata": {},
   "outputs": [
    {
     "name": "stdout",
     "output_type": "stream",
     "text": [
      "153.8 187.9\n"
     ]
    }
   ],
   "source": [
    "print(min(height_office_people),max(height_office_people))"
   ]
  },
  {
   "cell_type": "code",
   "execution_count": 4,
   "id": "bbc39129-b680-4ca7-a5ce-c5d1ea557bbd",
   "metadata": {},
   "outputs": [],
   "source": [
    "random_height = np.random.choice(height_office_people,10)"
   ]
  },
  {
   "cell_type": "code",
   "execution_count": 5,
   "id": "e7a446e5-e78e-45d1-b075-e9780bec4fa8",
   "metadata": {},
   "outputs": [
    {
     "name": "stdout",
     "output_type": "stream",
     "text": [
      "168.51333333333335\n"
     ]
    }
   ],
   "source": [
    "population_mean = np.mean(height_office_people)\n",
    "print(population_mean)"
   ]
  },
  {
   "cell_type": "code",
   "execution_count": 6,
   "id": "f806a824-4ac1-4e51-acfd-7bcbfadf74f9",
   "metadata": {},
   "outputs": [],
   "source": [
    "from scipy.stats import ttest_1samp"
   ]
  },
  {
   "cell_type": "code",
   "execution_count": 7,
   "id": "ef7236c4-20de-49de-a67c-17ad7b377e77",
   "metadata": {},
   "outputs": [],
   "source": [
    "# things we will get from an t-test is  test_value, p-value\n",
    "ttest,p_value = ttest_1samp(random_height, 168)"
   ]
  },
  {
   "cell_type": "code",
   "execution_count": 8,
   "id": "e18dd187-ccdd-4efe-a3e9-00cc6c18d944",
   "metadata": {},
   "outputs": [
    {
     "name": "stdout",
     "output_type": "stream",
     "text": [
      "0.7849206502197505\n"
     ]
    }
   ],
   "source": [
    "print(p_value)"
   ]
  },
  {
   "cell_type": "code",
   "execution_count": 9,
   "id": "191cb6e9-2e25-4659-85db-873f34f0a81d",
   "metadata": {},
   "outputs": [
    {
     "name": "stdout",
     "output_type": "stream",
     "text": [
      "We fail to reject the null hypothesis (not enough evidence for alternative).\n"
     ]
    }
   ],
   "source": [
    "if p_value < 0.05:\n",
    "    print(\"We reject the null hypothesis (evidence supports alternative).\")\n",
    "else:\n",
    "    print(\"We fail to reject the null hypothesis (not enough evidence for alternative).\")"
   ]
  },
  {
   "cell_type": "code",
   "execution_count": 10,
   "id": "85ca2b8a-78f1-41e0-b8d2-92c4d2c3dbc4",
   "metadata": {},
   "outputs": [
    {
     "name": "stdout",
     "output_type": "stream",
     "text": [
      "0.28119234550374733\n"
     ]
    }
   ],
   "source": [
    "print(ttest)"
   ]
  },
  {
   "cell_type": "markdown",
   "id": "f1b59388-f41a-4c3a-b743-f0375aa5f266",
   "metadata": {},
   "source": [
    "# 2 Sample t-test "
   ]
  },
  {
   "cell_type": "code",
   "execution_count": 11,
   "id": "5ffbee1e-8eb2-4bec-aba7-7899b2ad81a4",
   "metadata": {},
   "outputs": [],
   "source": [
    "from scipy.stats import ttest_ind"
   ]
  },
  {
   "cell_type": "code",
   "execution_count": 12,
   "id": "499e5cb8-9f9b-4c48-9fb4-ec014d83615a",
   "metadata": {},
   "outputs": [
    {
     "data": {
      "text/plain": [
       "np.float64(166.33333333333334)"
      ]
     },
     "execution_count": 12,
     "metadata": {},
     "output_type": "execute_result"
    }
   ],
   "source": [
    "np.random.seed(12)\n",
    "height_office_people_2 = stats.poisson.rvs(mu = 167, size = 30)\n",
    "height_office_people_2.mean()"
   ]
  },
  {
   "cell_type": "code",
   "execution_count": 13,
   "id": "763480fe-0e01-437c-9b7b-f835a3ff4073",
   "metadata": {},
   "outputs": [],
   "source": [
    "t_test,p_value = ttest_ind(a = height_office_people, b = height_office_people_2, equal_var = False)"
   ]
  },
  {
   "cell_type": "code",
   "execution_count": 14,
   "id": "23787422-aa69-46d1-a257-ca841e2fdf10",
   "metadata": {},
   "outputs": [
    {
     "name": "stdout",
     "output_type": "stream",
     "text": [
      "We fail to reject the null hypothesis (not enough evidence for alternative).\n"
     ]
    }
   ],
   "source": [
    "if p_value < 0.05:\n",
    "    print(\"We reject the null hypothesis (evidence supports alternative).\")\n",
    "else:\n",
    "    print(\"We fail to reject the null hypothesis (not enough evidence for alternative).\")"
   ]
  },
  {
   "cell_type": "code",
   "execution_count": 15,
   "id": "fd7ca591-27ac-439e-9843-e43961ea54e1",
   "metadata": {},
   "outputs": [
    {
     "name": "stdout",
     "output_type": "stream",
     "text": [
      "0.47484843226095164, 0.7197063344872463\n"
     ]
    }
   ],
   "source": [
    "print(f\"{p_value}, {t_test}\")"
   ]
  },
  {
   "cell_type": "markdown",
   "id": "0605349b-e46c-4e37-aa5a-db9a977d9596",
   "metadata": {},
   "source": [
    "# Paired T-test eg"
   ]
  },
  {
   "cell_type": "code",
   "execution_count": 16,
   "id": "64bbccec-fde2-4ee5-a30f-8cb6aa6f6304",
   "metadata": {},
   "outputs": [],
   "source": [
    "import pandas as pd\n",
    "from scipy.stats import ttest_rel\n",
    "people_weight = [45.0, 46.8966, 48.7931, 50.6897, 52.5862, 54.4828, 56.3793, 58.2759, 60.1724, 62.0689, 63.9655, 65.8621, 67.7586, 69.6552,\n",
    "71.5517, 73.4483, 75.3448, 77.2414, 79.1379, 81.0345, 82.9310, 84.8276, 86.7241, 88.6207, 90.5172, 92.4138, 94.3103, 96.2069, 98.1034, 100.0]\n",
    "\n",
    "people_weight_2 = people_weight+stats.norm.rvs(scale = 5, loc = -1.5, size = 30)"
   ]
  },
  {
   "cell_type": "code",
   "execution_count": 17,
   "id": "9cf92270-1fee-44fd-962e-f90f55619501",
   "metadata": {},
   "outputs": [
    {
     "name": "stdout",
     "output_type": "stream",
     "text": [
      "[45.0, 46.8966, 48.7931, 50.6897, 52.5862, 54.4828, 56.3793, 58.2759, 60.1724, 62.0689, 63.9655, 65.8621, 67.7586, 69.6552, 71.5517, 73.4483, 75.3448, 77.2414, 79.1379, 81.0345, 82.931, 84.8276, 86.7241, 88.6207, 90.5172, 92.4138, 94.3103, 96.2069, 98.1034, 100.0] [44.6624522  49.73465975 41.55203643 59.76142121 56.0909138  52.72572502\n",
      " 55.67823849 53.19458207 58.92501413 59.85221293 67.18337695 66.15032113\n",
      " 65.84135399 71.54423051 72.83200187 73.0618973  66.1998726  80.88745588\n",
      " 71.8066062  74.48669174 80.90466006 85.88771079 92.26273882 78.68221834\n",
      " 96.37336996 99.09611454 90.50332532 93.70008865 93.74431635 95.48350443]\n"
     ]
    }
   ],
   "source": [
    "print(people_weight,people_weight_2)"
   ]
  },
  {
   "cell_type": "code",
   "execution_count": 18,
   "id": "56f5bb53-9d17-4b45-8f67-efed74f20abc",
   "metadata": {},
   "outputs": [
    {
     "data": {
      "text/html": [
       "<div>\n",
       "<style scoped>\n",
       "    .dataframe tbody tr th:only-of-type {\n",
       "        vertical-align: middle;\n",
       "    }\n",
       "\n",
       "    .dataframe tbody tr th {\n",
       "        vertical-align: top;\n",
       "    }\n",
       "\n",
       "    .dataframe thead th {\n",
       "        text-align: right;\n",
       "    }\n",
       "</style>\n",
       "<table border=\"1\" class=\"dataframe\">\n",
       "  <thead>\n",
       "    <tr style=\"text-align: right;\">\n",
       "      <th></th>\n",
       "      <th>people_weight</th>\n",
       "      <th>people_weight_2</th>\n",
       "      <th>Weight_changed</th>\n",
       "    </tr>\n",
       "  </thead>\n",
       "  <tbody>\n",
       "    <tr>\n",
       "      <th>0</th>\n",
       "      <td>45.0000</td>\n",
       "      <td>44.662452</td>\n",
       "      <td>-0.337548</td>\n",
       "    </tr>\n",
       "    <tr>\n",
       "      <th>1</th>\n",
       "      <td>46.8966</td>\n",
       "      <td>49.734660</td>\n",
       "      <td>2.838060</td>\n",
       "    </tr>\n",
       "    <tr>\n",
       "      <th>2</th>\n",
       "      <td>48.7931</td>\n",
       "      <td>41.552036</td>\n",
       "      <td>-7.241064</td>\n",
       "    </tr>\n",
       "    <tr>\n",
       "      <th>3</th>\n",
       "      <td>50.6897</td>\n",
       "      <td>59.761421</td>\n",
       "      <td>9.071721</td>\n",
       "    </tr>\n",
       "    <tr>\n",
       "      <th>4</th>\n",
       "      <td>52.5862</td>\n",
       "      <td>56.090914</td>\n",
       "      <td>3.504714</td>\n",
       "    </tr>\n",
       "  </tbody>\n",
       "</table>\n",
       "</div>"
      ],
      "text/plain": [
       "   people_weight  people_weight_2  Weight_changed\n",
       "0        45.0000        44.662452       -0.337548\n",
       "1        46.8966        49.734660        2.838060\n",
       "2        48.7931        41.552036       -7.241064\n",
       "3        50.6897        59.761421        9.071721\n",
       "4        52.5862        56.090914        3.504714"
      ]
     },
     "execution_count": 18,
     "metadata": {},
     "output_type": "execute_result"
    }
   ],
   "source": [
    "df = pd.DataFrame({\n",
    "    \"people_weight\": np.array(people_weight),\n",
    "    \"people_weight_2\": np.array(people_weight_2),\n",
    "    \"Weight_changed\" : np.array(people_weight_2) -  np.array(people_weight)\n",
    "})\n",
    "df.head()"
   ]
  },
  {
   "cell_type": "code",
   "execution_count": 19,
   "id": "dbf48d07-a342-403c-90f4-5a4b3491ea1a",
   "metadata": {},
   "outputs": [],
   "source": [
    "t_test,p_value = ttest_rel(a = people_weight, b = people_weight_2)"
   ]
  },
  {
   "cell_type": "code",
   "execution_count": 20,
   "id": "ea27bc18-4efc-43d1-b521-1c42807a8a8c",
   "metadata": {},
   "outputs": [
    {
     "name": "stdout",
     "output_type": "stream",
     "text": [
      "0.32266313141561487, 1.0061546457423602\n"
     ]
    }
   ],
   "source": [
    "print(f\"{p_value}, {t_test}\")"
   ]
  },
  {
   "cell_type": "code",
   "execution_count": 21,
   "id": "c9b09900-6ab0-431f-b614-625e85d889f9",
   "metadata": {},
   "outputs": [
    {
     "name": "stdout",
     "output_type": "stream",
     "text": [
      "We fail to reject the null hypothesis (not enough evidence for alternative).\n"
     ]
    }
   ],
   "source": [
    "if p_value < 0.05:\n",
    "    print(\"We reject the null hypothesis (evidence supports alternative).\")\n",
    "else:\n",
    "    print(\"We fail to reject the null hypothesis (not enough evidence for alternative).\")"
   ]
  },
  {
   "cell_type": "code",
   "execution_count": null,
   "id": "23085693-e95c-401c-8d17-3cfb172389e6",
   "metadata": {},
   "outputs": [],
   "source": []
  }
 ],
 "metadata": {
  "kernelspec": {
   "display_name": "Python (p11venv)",
   "language": "python",
   "name": "p11venv"
  },
  "language_info": {
   "codemirror_mode": {
    "name": "ipython",
    "version": 3
   },
   "file_extension": ".py",
   "mimetype": "text/x-python",
   "name": "python",
   "nbconvert_exporter": "python",
   "pygments_lexer": "ipython3",
   "version": "3.11.13"
  }
 },
 "nbformat": 4,
 "nbformat_minor": 5
}
